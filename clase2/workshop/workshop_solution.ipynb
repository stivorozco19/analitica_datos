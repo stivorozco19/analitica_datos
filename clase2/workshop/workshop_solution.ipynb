{
 "cells": [
  {
   "cell_type": "markdown",
   "metadata": {},
   "source": [
    "# 🎓 Data Analytics Workshop: Antioquia Higher Education Scholarships Analysis\n",
    "\n",
    "## 📋 Workshop Overview\n",
    "In this hands-on workshop, you'll analyze real data about scholarship and credit beneficiaries for higher education access programs in Antioquia, Colombia.\n",
    "\n",
    "### 📊 Dataset Information\n",
    "- **Records**: ~14,500 scholarship beneficiaries\n",
    "- **Columns**: 17 variables\n",
    "- **Time Period**: 2016 onwards\n",
    "- **Focus**: Education access, demographics, and graduation outcomes"
   ]
  },
  {
   "cell_type": "markdown",
   "metadata": {},
   "source": [
    "---\n",
    "## Part 1: Data Loading and Initial Exploration 🔍"
   ]
  },
  {
   "cell_type": "markdown",
   "metadata": {},
   "source": [
    "### Task 1.1: Load the Dataset"
   ]
  },
  {
   "cell_type": "code",
   "execution_count": null,
   "metadata": {},
   "outputs": [],
   "source": [
    "# Import necessary libraries\n",
    "import pandas as pd\n",
    "import numpy as np\n",
    "import warnings\n",
    "warnings.filterwarnings('ignore')\n",
    "\n",
    "# Configure pandas display options for better readability\n",
    "pd.set_option('display.max_columns', 20)\n",
    "pd.set_option('display.max_rows', 100)\n",
    "pd.set_option('display.float_format', '{:.2f}'.format)\n",
    "\n",
    "print(\"✅ Libraries imported successfully\")\n",
    "print(f\"Pandas version: {pd.__version__}\")\n",
    "print(f\"NumPy version: {np.__version__}\")"
   ]
  },
  {
   "cell_type": "code",
   "execution_count": null,
   "metadata": {},
   "outputs": [],
   "source": [
    "# Load the CSV file\n",
    "file_path = 'Beneficiaros_de_becas_y_creditos_de_programas_de_acceso_a_la_educaci_n_superior_de_Antioquia_20250815.csv'\n",
    "df = pd.read_csv(file_path)\n",
    "\n",
    "# Display dataset dimensions\n",
    "print(f\"📊 Dataset loaded successfully!\")\n",
    "print(f\"Dimensions: {df.shape[0]} rows × {df.shape[1]} columns\")\n",
    "print(f\"\\nExpected: ~14,566 rows × 17 columns\")"
   ]
  },
  {
   "cell_type": "markdown",
   "metadata": {},
   "source": [
    "### Task 1.2: Apply the \"Big 3\" Analysis"
   ]
  },
  {
   "cell_type": "code",
   "execution_count": null,
   "metadata": {},
   "outputs": [],
   "source": [
    "# 1. HEAD() - Display first 5 rows\n",
    "print(\"📋 FIRST 5 ROWS OF THE DATASET:\")\n",
    "print(\"=\"*80)\n",
    "df.head()"
   ]
  },
  {
   "cell_type": "code",
   "execution_count": null,
   "metadata": {},
   "outputs": [],
   "source": [
    "# 2. INFO() - General information about the dataset\n",
    "print(\"📊 DATASET INFORMATION:\")\n",
    "print(\"=\"*80)\n",
    "df.info()"
   ]
  },
  {
   "cell_type": "code",
   "execution_count": null,
   "metadata": {},
   "outputs": [],
   "source": [
    "# 3. DESCRIBE() - Statistical summary\n",
    "print(\"📈 STATISTICAL SUMMARY:\")\n",
    "print(\"=\"*80)\n",
    "df.describe()"
   ]
  },
  {
   "cell_type": "markdown",
   "metadata": {},
   "source": [
    "### Task 1.3: Column Analysis"
   ]
  },
  {
   "cell_type": "code",
   "execution_count": null,
   "metadata": {},
   "outputs": [],
   "source": [
    "# Print all column names with their positions\n",
    "print(\"📋 AVAILABLE COLUMNS:\")\n",
    "print(\"=\"*80)\n",
    "for i, col in enumerate(df.columns, 1):\n",
    "    print(f\"{i:2d}. {col}\")\n",
    "\n",
    "print(f\"\\n📊 Total columns: {len(df.columns)}\")"
   ]
  },
  {
   "cell_type": "code",
   "execution_count": null,
   "metadata": {},
   "outputs": [],
   "source": [
    "# Check unique values for key categorical columns\n",
    "print(\"🔍 UNIQUE VALUES IN KEY COLUMNS:\")\n",
    "print(\"=\"*80)\n",
    "\n",
    "key_columns = ['GÉNERO', 'TIPO DE FORMACIÓN', 'GRADUADO', 'BENEFICIO OTORGADO']\n",
    "\n",
    "for col in key_columns:\n",
    "    if col in df.columns:\n",
    "        unique_values = df[col].unique()\n",
    "        print(f\"\\n📍 {col}:\")\n",
    "        print(f\"   - Unique values: {df[col].nunique()}\")\n",
    "        print(f\"   - Values: {unique_values[:10] if len(unique_values) > 10 else unique_values}\")"
   ]
  },
  {
   "cell_type": "code",
   "execution_count": null,
   "metadata": {},
   "outputs": [],
   "source": [
    "# Count unique universities and programs\n",
    "print(\"🎓 EDUCATIONAL INSTITUTIONS AND PROGRAMS:\")\n",
    "print(\"=\"*80)\n",
    "print(f\"\\nNumber of unique universities: {df['UNIVERSIDAD'].nunique()}\")\n",
    "print(f\"Number of unique programs: {df['PROGRAMA CURSADO'].nunique()}\")\n",
    "print(f\"Number of unique municipalities: {df['MUNICIPIO DE RESIDENCIA'].nunique()}\")\n",
    "\n",
    "# Top 5 universities by enrollment\n",
    "print(\"\\n🏆 Top 5 Universities by Enrollment:\")\n",
    "print(df['UNIVERSIDAD'].value_counts().head())"
   ]
  },
  {
   "cell_type": "markdown",
   "metadata": {},
   "source": [
    "---\n",
    "## Part 2: Data Cleaning and Preparation 🧹"
   ]
  },
  {
   "cell_type": "markdown",
   "metadata": {},
   "source": [
    "### Task 2.1: Data Type Conversion"
   ]
  },
  {
   "cell_type": "code",
   "execution_count": null,
   "metadata": {},
   "outputs": [],
   "source": [
    "# Check current data types\n",
    "print(\"🔍 CURRENT DATA TYPES:\")\n",
    "print(\"=\"*80)\n",
    "print(df.dtypes)\n",
    "\n",
    "# Identify columns that need conversion\n",
    "print(\"\\n⚠️ Columns that might need type conversion:\")\n",
    "print(\"- ESTRATO (should be numeric)\")\n",
    "print(\"- CONVOCATORIA (should be numeric/year)\")\n",
    "print(\"- FECHA DE NACIMIENTO (should be datetime)\")"
   ]
  },
  {
   "cell_type": "code",
   "execution_count": null,
   "metadata": {},
   "outputs": [],
   "source": [
    "# Check ESTRATO values\n",
    "print(\"🏠 ESTRATO VALUES:\")\n",
    "print(\"=\"*80)\n",
    "print(\"Sample values:\")\n",
    "print(df['ESTRATO'].value_counts())"
   ]
  },
  {
   "cell_type": "code",
   "execution_count": null,
   "metadata": {},
   "outputs": [],
   "source": [
    "# Convert ESTRATO to numeric\n",
    "print(\"🔧 CONVERTING ESTRATO TO NUMERIC:\")\n",
    "print(\"=\"*80)\n",
    "\n",
    "# Method 1: Extract number from string (e.g., 'ESTRATO 1' -> 1)\n",
    "df['ESTRATO_NUMERIC'] = df['ESTRATO'].str.extract('(\\d+)').astype(float)\n",
    "\n",
    "# Verify conversion\n",
    "print(f\"Original type: {df['ESTRATO'].dtype}\")\n",
    "print(f\"New type: {df['ESTRATO_NUMERIC'].dtype}\")\n",
    "print(f\"\\nValue counts after conversion:\")\n",
    "print(df['ESTRATO_NUMERIC'].value_counts().sort_index())\n",
    "\n",
    "# Check for any conversion failures\n",
    "null_count = df['ESTRATO_NUMERIC'].isnull().sum()\n",
    "print(f\"\\nConversion failures (NaN): {null_count}\")"
   ]
  },
  {
   "cell_type": "code",
   "execution_count": null,
   "metadata": {},
   "outputs": [],
   "source": [
    "# Convert CONVOCATORIA to integer\n",
    "print(\"📅 CONVERTING CONVOCATORIA TO NUMERIC:\")\n",
    "print(\"=\"*80)\n",
    "\n",
    "# Check current values\n",
    "print(\"Current unique values:\")\n",
    "print(df['CONVOCATORIA'].unique())\n",
    "\n",
    "# Convert to numeric\n",
    "df['CONVOCATORIA'] = pd.to_numeric(df['CONVOCATORIA'], errors='coerce')\n",
    "\n",
    "print(f\"\\nConverted type: {df['CONVOCATORIA'].dtype}\")\n",
    "print(f\"Year range: {df['CONVOCATORIA'].min():.0f} - {df['CONVOCATORIA'].max():.0f}\")"
   ]
  },
  {
   "cell_type": "markdown",
   "metadata": {},
   "source": [
    "### Task 2.2: Data Quality Assessment"
   ]
  },
  {
   "cell_type": "code",
   "execution_count": null,
   "metadata": {},
   "outputs": [],
   "source": [
    "# Check for null values\n",
    "print(\"🔍 MISSING DATA ANALYSIS:\")\n",
    "print(\"=\"*80)\n",
    "\n",
    "# Calculate missing data\n",
    "null_counts = df.isnull().sum()\n",
    "null_percentages = (null_counts / len(df)) * 100\n",
    "\n",
    "# Create summary DataFrame\n",
    "missing_data = pd.DataFrame({\n",
    "    'Column': null_counts.index,\n",
    "    'Missing_Count': null_counts.values,\n",
    "    'Percentage': null_percentages.values\n",
    "})\n",
    "\n",
    "# Filter to show only columns with missing data\n",
    "missing_data = missing_data[missing_data['Missing_Count'] > 0].sort_values('Percentage', ascending=False)\n",
    "\n",
    "if len(missing_data) > 0:\n",
    "    print(missing_data)\n",
    "else:\n",
    "    print(\"✅ No missing values found in the dataset!\")\n",
    "\n",
    "print(f\"\\n📊 Total missing values: {null_counts.sum()}\")\n",
    "print(f\"📊 Percentage of complete data: {100 - (null_counts.sum() / (len(df) * len(df.columns)) * 100):.2f}%\")"
   ]
  },
  {
   "cell_type": "code",
   "execution_count": null,
   "metadata": {},
   "outputs": [],
   "source": [
    "# Verify ESTRATO values are within expected range (1-6)\n",
    "print(\"✅ VALIDATING ESTRATO VALUES:\")\n",
    "print(\"=\"*80)\n",
    "\n",
    "# Check range\n",
    "estrato_min = df['ESTRATO_NUMERIC'].min()\n",
    "estrato_max = df['ESTRATO_NUMERIC'].max()\n",
    "\n",
    "print(f\"ESTRATO range: {estrato_min:.0f} - {estrato_max:.0f}\")\n",
    "print(f\"Expected range: 1 - 6\")\n",
    "\n",
    "# Check for values outside expected range\n",
    "invalid_estrato = df[(df['ESTRATO_NUMERIC'] < 1) | (df['ESTRATO_NUMERIC'] > 6)]\n",
    "if len(invalid_estrato) > 0:\n",
    "    print(f\"\\n⚠️ Found {len(invalid_estrato)} records with ESTRATO outside 1-6 range\")\n",
    "else:\n",
    "    print(\"\\n✅ All ESTRATO values are within the expected range (1-6)\")\n",
    "\n",
    "# Distribution of ESTRATO\n",
    "print(\"\\n📊 ESTRATO Distribution:\")\n",
    "print(df['ESTRATO_NUMERIC'].value_counts().sort_index())"
   ]
  },
  {
   "cell_type": "markdown",
   "metadata": {},
   "source": [
    "---\n",
    "## Part 3: Basic Analysis with Pandas 📊"
   ]
  },
  {
   "cell_type": "markdown",
   "metadata": {},
   "source": [
    "### Task 3.1: Series Operations"
   ]
  },
  {
   "cell_type": "code",
   "execution_count": null,
   "metadata": {},
   "outputs": [],
   "source": [
    "# Extract GÉNERO column as a Series\n",
    "print(\"👥 GENDER DISTRIBUTION ANALYSIS:\")\n",
    "print(\"=\"*80)\n",
    "\n",
    "# Get gender Series\n",
    "gender_series = df['GÉNERO']\n",
    "print(f\"Type: {type(gender_series)}\")\n",
    "print(f\"Length: {len(gender_series)}\")\n",
    "\n",
    "# Calculate value counts\n",
    "gender_counts = gender_series.value_counts()\n",
    "print(\"\\n📊 Gender Distribution:\")\n",
    "print(gender_counts)\n",
    "\n",
    "# Calculate percentages\n",
    "gender_percentages = gender_series.value_counts(normalize=True) * 100\n",
    "print(\"\\n📊 Gender Distribution (%)\")\n",
    "for gender, percentage in gender_percentages.items():\n",
    "    print(f\"   {gender}: {percentage:.1f}%\")"
   ]
  },
  {
   "cell_type": "code",
   "execution_count": null,
   "metadata": {},
   "outputs": [],
   "source": [
    "# Analyze GRADUADO status\n",
    "print(\"🎓 GRADUATION STATUS ANALYSIS:\")\n",
    "print(\"=\"*80)\n",
    "\n",
    "# Get graduation Series\n",
    "graduation_series = df['GRADUADO']\n",
    "\n",
    "# Calculate value counts\n",
    "graduation_counts = graduation_series.value_counts()\n",
    "print(\"\\n📊 Graduation Status:\")\n",
    "print(graduation_counts)\n",
    "\n",
    "# Calculate graduation rate\n",
    "total_students = len(df)\n",
    "graduated_students = (df['GRADUADO'] == 'SI').sum()\n",
    "graduation_rate = (graduated_students / total_students) * 100\n",
    "\n",
    "print(f\"\\n🎯 Overall Graduation Rate: {graduation_rate:.2f}%\")\n",
    "print(f\"   - Graduated: {graduated_students:,} students\")\n",
    "print(f\"   - Not graduated: {total_students - graduated_students:,} students\")"
   ]
  },
  {
   "cell_type": "markdown",
   "metadata": {},
   "source": [
    "### Task 3.2: DataFrame Filtering"
   ]
  },
  {
   "cell_type": "code",
   "execution_count": null,
   "metadata": {},
   "outputs": [],
   "source": [
    "# Filter students from ESTRATO 1 only\n",
    "print(\"🏠 FILTERING ESTRATO 1 STUDENTS:\")\n",
    "print(\"=\"*80)\n",
    "\n",
    "estrato_1_students = df[df['ESTRATO_NUMERIC'] == 1]\n",
    "print(f\"Total students from ESTRATO 1: {len(estrato_1_students):,}\")\n",
    "print(f\"Percentage of total: {(len(estrato_1_students) / len(df)) * 100:.1f}%\")\n",
    "\n",
    "# Show sample\n",
    "print(\"\\nSample of ESTRATO 1 students:\")\n",
    "estrato_1_students[['MUNICIPIO DE RESIDENCIA', 'UNIVERSIDAD', 'GRADUADO']].head()"
   ]
  },
  {
   "cell_type": "code",
   "execution_count": null,
   "metadata": {},
   "outputs": [],
   "source": [
    "# Find all graduated students\n",
    "print(\"🎓 FILTERING GRADUATED STUDENTS:\")\n",
    "print(\"=\"*80)\n",
    "\n",
    "graduated_students = df[df['GRADUADO'] == 'SI']\n",
    "print(f\"Total graduated students: {len(graduated_students):,}\")\n",
    "print(f\"Percentage of total: {(len(graduated_students) / len(df)) * 100:.1f}%\")\n",
    "\n",
    "# Analyze graduated students by education type\n",
    "print(\"\\n📊 Graduated Students by Education Type:\")\n",
    "print(graduated_students['TIPO DE FORMACIÓN'].value_counts())"
   ]
  },
  {
   "cell_type": "code",
   "execution_count": null,
   "metadata": {},
   "outputs": [],
   "source": [
    "# Filter female students who graduated\n",
    "print(\"👩‍🎓 FILTERING FEMALE GRADUATED STUDENTS:\")\n",
    "print(\"=\"*80)\n",
    "\n",
    "female_graduated = df[(df['GÉNERO'] == 'FEMENINO') & (df['GRADUADO'] == 'SI')]\n",
    "print(f\"Female graduated students: {len(female_graduated):,}\")\n",
    "\n",
    "# Compare with male graduated students\n",
    "male_graduated = df[(df['GÉNERO'] == 'MASCULINO') & (df['GRADUADO'] == 'SI')]\n",
    "print(f\"Male graduated students: {len(male_graduated):,}\")\n",
    "\n",
    "# Calculate graduation rates by gender\n",
    "female_total = (df['GÉNERO'] == 'FEMENINO').sum()\n",
    "male_total = (df['GÉNERO'] == 'MASCULINO').sum()\n",
    "\n",
    "female_grad_rate = (len(female_graduated) / female_total) * 100\n",
    "male_grad_rate = (len(male_graduated) / male_total) * 100\n",
    "\n",
    "print(f\"\\n📊 Graduation Rates by Gender:\")\n",
    "print(f\"   Female: {female_grad_rate:.2f}%\")\n",
    "print(f\"   Male: {male_grad_rate:.2f}%\")\n",
    "print(f\"   Gender gap: {abs(female_grad_rate - male_grad_rate):.2f} percentage points\")"
   ]
  },
  {
   "cell_type": "markdown",
   "metadata": {},
   "source": [
    "### Task 3.3: Using loc and iloc"
   ]
  },
  {
   "cell_type": "code",
   "execution_count": null,
   "metadata": {},
   "outputs": [],
   "source": [
    "# Use iloc for position-based selection\n",
    "print(\"🔢 ILOC - POSITION-BASED INDEXING:\")\n",
    "print(\"=\"*80)\n",
    "\n",
    "# Select first 10 rows and columns 0-5\n",
    "print(\"First 10 rows, columns 0-5:\")\n",
    "df.iloc[0:10, 0:5]"
   ]
  },
  {
   "cell_type": "code",
   "execution_count": null,
   "metadata": {},
   "outputs": [],
   "source": [
    "# Use loc for label-based selection\n",
    "print(\"🏷️ LOC - LABEL-BASED INDEXING:\")\n",
    "print(\"=\"*80)\n",
    "\n",
    "# Select specific columns for graduated students\n",
    "graduated_info = df.loc[\n",
    "    df['GRADUADO'] == 'SI',\n",
    "    ['UNIVERSIDAD', 'PROGRAMA CURSADO', 'TIPO DE FORMACIÓN', 'ESTRATO_NUMERIC']\n",
    "]\n",
    "\n",
    "print(f\"Selected {len(graduated_info)} graduated students with specific columns\")\n",
    "print(\"\\nSample of selected data:\")\n",
    "graduated_info.head()"
   ]
  },
  {
   "cell_type": "code",
   "execution_count": null,
   "metadata": {},
   "outputs": [],
   "source": [
    "# Compare loc vs iloc with conditions\n",
    "print(\"🔍 LOC WITH MULTIPLE CONDITIONS:\")\n",
    "print(\"=\"*80)\n",
    "\n",
    "# Using loc with conditions\n",
    "filtered_data = df.loc[\n",
    "    (df['ESTRATO_NUMERIC'] <= 2) & \n",
    "    (df['TIPO DE FORMACIÓN'] == 'UNIVERSITARIA') &\n",
    "    (df['GRADUADO'] == 'SI'),\n",
    "    ['MUNICIPIO DE RESIDENCIA', 'UNIVERSIDAD', 'PROGRAMA CURSADO']\n",
    "]\n",
    "\n",
    "print(f\"Students from ESTRATO 1-2, University level, Graduated: {len(filtered_data)}\")\n",
    "print(\"\\nTop 5 programs for this group:\")\n",
    "print(filtered_data['PROGRAMA CURSADO'].value_counts().head())"
   ]
  },
  {
   "cell_type": "markdown",
   "metadata": {},
   "source": [
    "---\n",
    "## Part 4: NumPy Integration 🔢"
   ]
  },
  {
   "cell_type": "markdown",
   "metadata": {},
   "source": [
    "### Task 4.1: Converting to NumPy Arrays"
   ]
  },
  {
   "cell_type": "code",
   "execution_count": null,
   "metadata": {},
   "outputs": [],
   "source": [
    "# Convert ESTRATO column to NumPy array\n",
    "print(\"🔢 NUMPY ARRAY OPERATIONS:\")\n",
    "print(\"=\"*80)\n",
    "\n",
    "# Convert to NumPy array\n",
    "estrato_array = df['ESTRATO_NUMERIC'].fillna(0).values\n",
    "\n",
    "print(f\"Type: {type(estrato_array)}\")\n",
    "print(f\"Shape: {estrato_array.shape}\")\n",
    "print(f\"Data type: {estrato_array.dtype}\")\n",
    "\n",
    "# Calculate statistics using NumPy\n",
    "print(\"\\n📊 NumPy Statistics:\")\n",
    "print(f\"   Mean: {np.mean(estrato_array):.2f}\")\n",
    "print(f\"   Median: {np.median(estrato_array):.2f}\")\n",
    "print(f\"   Std Dev: {np.std(estrato_array):.2f}\")\n",
    "print(f\"   Min: {np.min(estrato_array):.0f}\")\n",
    "print(f\"   Max: {np.max(estrato_array):.0f}\")"
   ]
  },
  {
   "cell_type": "code",
   "execution_count": null,
   "metadata": {},
   "outputs": [],
   "source": [
    "# Compare speed: pandas vs NumPy\n",
    "import time\n",
    "\n",
    "print(\"⚡ SPEED COMPARISON: PANDAS vs NUMPY\")\n",
    "print(\"=\"*80)\n",
    "\n",
    "# Create a large array for testing\n",
    "test_data = df['ESTRATO_NUMERIC'].fillna(0).values\n",
    "\n",
    "# Pandas operation\n",
    "start = time.time()\n",
    "for _ in range(1000):\n",
    "    pandas_mean = df['ESTRATO_NUMERIC'].mean()\n",
    "pandas_time = time.time() - start\n",
    "\n",
    "# NumPy operation\n",
    "start = time.time()\n",
    "for _ in range(1000):\n",
    "    numpy_mean = np.mean(test_data)\n",
    "numpy_time = time.time() - start\n",
    "\n",
    "print(f\"Pandas time (1000 iterations): {pandas_time:.4f} seconds\")\n",
    "print(f\"NumPy time (1000 iterations): {numpy_time:.4f} seconds\")\n",
    "print(f\"\\n🚀 NumPy is {pandas_time/numpy_time:.1f}x faster!\")"
   ]
  },
  {
   "cell_type": "markdown",
   "metadata": {},
   "source": [
    "### Task 4.2: Vectorized Operations"
   ]
  },
  {
   "cell_type": "code",
   "execution_count": null,
   "metadata": {},
   "outputs": [],
   "source": [
    "# Create binary arrays for graduated status\n",
    "print(\"🔄 VECTORIZED OPERATIONS:\")\n",
    "print(\"=\"*80)\n",
    "\n",
    "# Convert graduated status to binary (1/0)\n",
    "graduated_binary = np.where(df['GRADUADO'] == 'SI', 1, 0)\n",
    "\n",
    "print(f\"Binary array shape: {graduated_binary.shape}\")\n",
    "print(f\"Sum of graduated (1s): {np.sum(graduated_binary)}\")\n",
    "print(f\"Sum of not graduated (0s): {len(graduated_binary) - np.sum(graduated_binary)}\")\n",
    "\n",
    "# Calculate graduation rate using NumPy\n",
    "graduation_rate_np = np.mean(graduated_binary) * 100\n",
    "print(f\"\\n🎓 Graduation rate (NumPy): {graduation_rate_np:.2f}%\")"
   ]
  },
  {
   "cell_type": "code",
   "execution_count": null,
   "metadata": {},
   "outputs": [],
   "source": [
    "# Categorize ESTRATO using NumPy\n",
    "print(\"📊 CATEGORIZING ESTRATO WITH NUMPY:\")\n",
    "print(\"=\"*80)\n",
    "\n",
    "# Create categories: Low (1-2), Medium (3-4), High (5-6)\n",
    "estrato_values = df['ESTRATO_NUMERIC'].fillna(0).values\n",
    "\n",
    "# Using np.select for multiple conditions\n",
    "conditions = [\n",
    "    (estrato_values >= 1) & (estrato_values <= 2),\n",
    "    (estrato_values >= 3) & (estrato_values <= 4),\n",
    "    (estrato_values >= 5) & (estrato_values <= 6)\n",
    "]\n",
    "choices = ['Low', 'Medium', 'High']\n",
    "\n",
    "estrato_categories = np.select(conditions, choices, default='Unknown')\n",
    "\n",
    "# Add to DataFrame\n",
    "df['ESTRATO_CATEGORY'] = estrato_categories\n",
    "\n",
    "# Show distribution\n",
    "print(\"Distribution of ESTRATO categories:\")\n",
    "print(df['ESTRATO_CATEGORY'].value_counts())\n",
    "\n",
    "# Calculate graduation rates by category\n",
    "print(\"\\n🎓 Graduation rates by ESTRATO category:\")\n",
    "for category in ['Low', 'Medium', 'High']:\n",
    "    mask = df['ESTRATO_CATEGORY'] == category\n",
    "    if mask.sum() > 0:\n",
    "        rate = (df[mask]['GRADUADO'] == 'SI').sum() / mask.sum() * 100\n",
    "        print(f\"   {category}: {rate:.2f}%\")"
   ]
  },
  {
   "cell_type": "markdown",
   "metadata": {},
   "source": [
    "---\n",
    "## Part 5: GroupBy and Aggregations 🔬"
   ]
  },
  {
   "cell_type": "markdown",
   "metadata": {},
   "source": [
    "### Task 5.1: Single Variable GroupBy"
   ]
  },
  {
   "cell_type": "code",
   "execution_count": null,
   "metadata": {},
   "outputs": [],
   "source": [
    "# Group by GÉNERO and calculate graduation rates\n",
    "print(\"👥 ANALYSIS BY GENDER:\")\n",
    "print(\"=\"*80)\n",
    "\n",
    "# Create graduation rate calculation function\n",
    "def calculate_graduation_rate(group):\n",
    "    return (group == 'SI').sum() / len(group) * 100\n",
    "\n",
    "# Group by gender\n",
    "gender_analysis = df.groupby('GÉNERO').agg({\n",
    "    'GRADUADO': [lambda x: (x == 'SI').sum(), 'count', calculate_graduation_rate],\n",
    "    'ESTRATO_NUMERIC': 'mean'\n",
    "})\n",
    "\n",
    "# Rename columns for clarity\n",
    "gender_analysis.columns = ['Graduated_Count', 'Total_Count', 'Graduation_Rate(%)', 'Avg_Estrato']\n",
    "print(gender_analysis.round(2))"
   ]
  },
  {
   "cell_type": "code",
   "execution_count": null,
   "metadata": {},
   "outputs": [],
   "source": [
    "# Group by ESTRATO and count students\n",
    "print(\"🏠 ANALYSIS BY SOCIOECONOMIC STRATUM:\")\n",
    "print(\"=\"*80)\n",
    "\n",
    "estrato_analysis = df.groupby('ESTRATO_NUMERIC').agg({\n",
    "    'GRADUADO': ['count', lambda x: (x == 'SI').sum()],\n",
    "    'GÉNERO': lambda x: (x == 'FEMENINO').sum()\n",
    "})\n",
    "\n",
    "# Calculate graduation rate\n",
    "estrato_analysis.columns = ['Total_Students', 'Graduated', 'Female_Count']\n",
    "estrato_analysis['Graduation_Rate(%)'] = (estrato_analysis['Graduated'] / estrato_analysis['Total_Students']) * 100\n",
    "estrato_analysis['Female_Percentage(%)'] = (estrato_analysis['Female_Count'] / estrato_analysis['Total_Students']) * 100\n",
    "\n",
    "print(estrato_analysis.round(2))"
   ]
  },
  {
   "cell_type": "code",
   "execution_count": null,
   "metadata": {},
   "outputs": [],
   "source": [
    "# Group by TIPO DE FORMACIÓN\n",
    "print(\"🎓 ANALYSIS BY EDUCATION TYPE:\")\n",
    "print(\"=\"*80)\n",
    "\n",
    "education_type_analysis = df.groupby('TIPO DE FORMACIÓN').agg({\n",
    "    'GRADUADO': ['count', lambda x: (x == 'SI').sum()],\n",
    "    'ESTRATO_NUMERIC': 'mean'\n",
    "})\n",
    "\n",
    "education_type_analysis.columns = ['Total_Students', 'Graduated', 'Avg_Estrato']\n",
    "education_type_analysis['Graduation_Rate(%)'] = (\n",
    "    education_type_analysis['Graduated'] / education_type_analysis['Total_Students']\n",
    ") * 100\n",
    "\n",
    "# Sort by graduation rate\n",
    "education_type_analysis = education_type_analysis.sort_values('Graduation_Rate(%)', ascending=False)\n",
    "print(education_type_analysis.round(2))"
   ]
  },
  {
   "cell_type": "code",
   "execution_count": null,
   "metadata": {},
   "outputs": [],
   "source": [
    "# Top 10 universities by student count\n",
    "print(\"🏆 TOP 10 UNIVERSITIES BY ENROLLMENT:\")\n",
    "print(\"=\"*80)\n",
    "\n",
    "university_enrollment = df.groupby('UNIVERSIDAD').size().sort_values(ascending=False).head(10)\n",
    "\n",
    "for i, (university, count) in enumerate(university_enrollment.items(), 1):\n",
    "    percentage = (count / len(df)) * 100\n",
    "    print(f\"{i:2d}. {university[:50]:<50} {count:>5} students ({percentage:.1f}%)\")"
   ]
  },
  {
   "cell_type": "markdown",
   "metadata": {},
   "source": [
    "### Task 5.2: Multiple Aggregations"
   ]
  },
  {
   "cell_type": "code",
   "execution_count": null,
   "metadata": {},
   "outputs": [],
   "source": [
    "# Group by SUBREGIÓN with multiple metrics\n",
    "print(\"🌍 COMPREHENSIVE ANALYSIS BY SUBREGION:\")\n",
    "print(\"=\"*80)\n",
    "\n",
    "# Define aggregation functions\n",
    "subregion_analysis = df.groupby('SUBREGIÓN DE RESIDENCIA').agg({\n",
    "    'GRADUADO': [\n",
    "        'count',\n",
    "        lambda x: (x == 'SI').sum(),\n",
    "        lambda x: (x == 'SI').sum() / len(x) * 100\n",
    "    ],\n",
    "    'ESTRATO_NUMERIC': ['mean', 'median'],\n",
    "    'GÉNERO': lambda x: (x == 'FEMENINO').sum() / len(x) * 100\n",
    "})\n",
    "\n",
    "# Flatten column names\n",
    "subregion_analysis.columns = [\n",
    "    'Total_Students', 'Graduated_Count', 'Graduation_Rate(%)',\n",
    "    'Avg_Estrato', 'Median_Estrato', 'Female_Percentage(%)'\n",
    "]\n",
    "\n",
    "# Sort by total students\n",
    "subregion_analysis = subregion_analysis.sort_values('Total_Students', ascending=False)\n",
    "print(subregion_analysis.round(2))"
   ]
  },
  {
   "cell_type": "markdown",
   "metadata": {},
   "source": [
    "### Task 5.3: Multi-level GroupBy"
   ]
  },
  {
   "cell_type": "code",
   "execution_count": null,
   "metadata": {},
   "outputs": [],
   "source": [
    "# Group by GÉNERO and TIPO DE FORMACIÓN\n",
    "print(\"📊 MULTI-DIMENSIONAL ANALYSIS: GENDER × EDUCATION TYPE\")\n",
    "print(\"=\"*80)\n",
    "\n",
    "# Multi-level groupby\n",
    "multi_group = df.groupby(['GÉNERO', 'TIPO DE FORMACIÓN']).agg({\n",
    "    'GRADUADO': [\n",
    "        'count',\n",
    "        lambda x: (x == 'SI').sum(),\n",
    "        lambda x: (x == 'SI').sum() / len(x) * 100\n",
    "    ]\n",
    "})\n",
    "\n",
    "multi_group.columns = ['Total', 'Graduated', 'Graduation_Rate(%)']\n",
    "print(multi_group.round(2))\n",
    "\n",
    "# Create pivot table for better visualization\n",
    "print(\"\\n📋 GRADUATION RATE PIVOT TABLE:\")\n",
    "pivot_table = df.pivot_table(\n",
    "    values='GRADUADO',\n",
    "    index='TIPO DE FORMACIÓN',\n",
    "    columns='GÉNERO',\n",
    "    aggfunc=lambda x: (x == 'SI').sum() / len(x) * 100\n",
    ")\n",
    "print(pivot_table.round(2))"
   ]
  },
  {
   "cell_type": "code",
   "execution_count": null,
   "metadata": {},
   "outputs": [],
   "source": [
    "# Group by ESTRATO and GRADUADO to see patterns\n",
    "print(\"📈 CROSS-TABULATION: ESTRATO × GRADUATION STATUS\")\n",
    "print(\"=\"*80)\n",
    "\n",
    "# Create crosstab\n",
    "crosstab_result = pd.crosstab(\n",
    "    df['ESTRATO_CATEGORY'],\n",
    "    df['GRADUADO'],\n",
    "    margins=True,\n",
    "    margins_name='Total'\n",
    ")\n",
    "\n",
    "print(\"Count Distribution:\")\n",
    "print(crosstab_result)\n",
    "\n",
    "# Calculate percentages\n",
    "print(\"\\nPercentage Distribution (by row):\")\n",
    "crosstab_pct = pd.crosstab(\n",
    "    df['ESTRATO_CATEGORY'],\n",
    "    df['GRADUADO'],\n",
    "    normalize='index'\n",
    ") * 100\n",
    "print(crosstab_pct.round(2))"
   ]
  },
  {
   "cell_type": "markdown",
   "metadata": {},
   "source": [
    "---\n",
    "## Part 6: Advanced Filtering and Analysis 🎯"
   ]
  },
  {
   "cell_type": "markdown",
   "metadata": {},
   "source": [
    "### Task 6.1: Complex Conditions"
   ]
  },
  {
   "cell_type": "code",
   "execution_count": null,
   "metadata": {},
   "outputs": [],
   "source": [
    "# Find female students from ESTRATO 1 or 2 who graduated\n",
    "print(\"🎯 COMPLEX FILTERING: MULTIPLE CONDITIONS\")\n",
    "print(\"=\"*80)\n",
    "\n",
    "complex_filter = df[\n",
    "    (df['GÉNERO'] == 'FEMENINO') &\n",
    "    ((df['ESTRATO_NUMERIC'] == 1) | (df['ESTRATO_NUMERIC'] == 2)) &\n",
    "    (df['GRADUADO'] == 'SI')\n",
    "]\n",
    "\n",
    "print(f\"Female students from ESTRATO 1-2 who graduated: {len(complex_filter):,}\")\n",
    "print(f\"\\nTop 5 programs for this group:\")\n",
    "print(complex_filter['PROGRAMA CURSADO'].value_counts().head())\n",
    "\n",
    "print(f\"\\nTop 5 universities for this group:\")\n",
    "print(complex_filter['UNIVERSIDAD'].value_counts().head())"
   ]
  },
  {
   "cell_type": "code",
   "execution_count": null,
   "metadata": {},
   "outputs": [],
   "source": [
    "# Use isin() for multiple value filtering\n",
    "print(\"🔍 FILTERING WITH ISIN():\")\n",
    "print(\"=\"*80)\n",
    "\n",
    "# Define target universities\n",
    "top_universities = df['UNIVERSIDAD'].value_counts().head(5).index.tolist()\n",
    "\n",
    "# Filter students from top universities\n",
    "top_uni_students = df[df['UNIVERSIDAD'].isin(top_universities)]\n",
    "\n",
    "print(f\"Students from top 5 universities: {len(top_uni_students):,}\")\n",
    "print(f\"Percentage of total: {(len(top_uni_students) / len(df)) * 100:.1f}%\")\n",
    "\n",
    "# Analyze graduation rates for top universities\n",
    "print(\"\\n🎓 Graduation Rates for Top 5 Universities:\")\n",
    "for uni in top_universities:\n",
    "    uni_data = df[df['UNIVERSIDAD'] == uni]\n",
    "    grad_rate = (uni_data['GRADUADO'] == 'SI').sum() / len(uni_data) * 100\n",
    "    print(f\"   {uni[:40]:<40} {grad_rate:.2f}%\")"
   ]
  },
  {
   "cell_type": "markdown",
   "metadata": {},
   "source": [
    "### Task 6.2: Top and Bottom Analysis"
   ]
  },
  {
   "cell_type": "code",
   "execution_count": null,
   "metadata": {},
   "outputs": [],
   "source": [
    "# Find top 5 universities by graduation rate (minimum 50 students)\n",
    "print(\"🏆 TOP PERFORMING UNIVERSITIES:\")\n",
    "print(\"=\"*80)\n",
    "\n",
    "# Calculate graduation rates by university\n",
    "university_stats = df.groupby('UNIVERSIDAD').agg({\n",
    "    'GRADUADO': ['count', lambda x: (x == 'SI').sum()]\n",
    "})\n",
    "\n",
    "university_stats.columns = ['Total_Students', 'Graduated']\n",
    "university_stats['Graduation_Rate'] = (\n",
    "    university_stats['Graduated'] / university_stats['Total_Students']\n",
    ") * 100\n",
    "\n",
    "# Filter universities with at least 50 students\n",
    "qualified_universities = university_stats[university_stats['Total_Students'] >= 50]\n",
    "\n",
    "# Get top 5\n",
    "top_5_universities = qualified_universities.nlargest(5, 'Graduation_Rate')\n",
    "\n",
    "print(\"Top 5 Universities by Graduation Rate (min. 50 students):\")\n",
    "for idx, row in top_5_universities.iterrows():\n",
    "    print(f\"   {idx[:40]:<40} {row['Graduation_Rate']:.2f}% ({row['Total_Students']:.0f} students)\")"
   ]
  },
  {
   "cell_type": "code",
   "execution_count": null,
   "metadata": {},
   "outputs": [],
   "source": [
    "# Identify programs with lowest graduation rates\n",
    "print(\"⚠️ PROGRAMS WITH LOWEST GRADUATION RATES:\")\n",
    "print(\"=\"*80)\n",
    "\n",
    "# Calculate graduation rates by program\n",
    "program_stats = df.groupby('PROGRAMA CURSADO').agg({\n",
    "    'GRADUADO': ['count', lambda x: (x == 'SI').sum()]\n",
    "})\n",
    "\n",
    "program_stats.columns = ['Total_Students', 'Graduated']\n",
    "program_stats['Graduation_Rate'] = (\n",
    "    program_stats['Graduated'] / program_stats['Total_Students']\n",
    ") * 100\n",
    "\n",
    "# Filter programs with at least 30 students\n",
    "qualified_programs = program_stats[program_stats['Total_Students'] >= 30]\n",
    "\n",
    "# Get bottom 5\n",
    "bottom_5_programs = qualified_programs.nsmallest(5, 'Graduation_Rate')\n",
    "\n",
    "print(\"Bottom 5 Programs by Graduation Rate (min. 30 students):\")\n",
    "for idx, row in bottom_5_programs.iterrows():\n",
    "    print(f\"   {idx[:40]:<40} {row['Graduation_Rate']:.2f}% ({row['Total_Students']:.0f} students)\")"
   ]
  },
  {
   "cell_type": "markdown",
   "metadata": {},
   "source": [
    "---\n",
    "## Part 7: Insights and Conclusions 💡"
   ]
  },
  {
   "cell_type": "markdown",
   "metadata": {},
   "source": [
    "### Task 7.1: Key Metrics Summary"
   ]
  },
  {
   "cell_type": "code",
   "execution_count": null,
   "metadata": {},
   "outputs": [],
   "source": [
    "print(\"📊 KEY PERFORMANCE INDICATORS SUMMARY\")\n",
    "print(\"=\"*80)\n",
    "\n",
    "# Overall metrics\n",
    "total_beneficiaries = len(df)\n",
    "overall_graduation_rate = (df['GRADUADO'] == 'SI').sum() / len(df) * 100\n",
    "\n",
    "# Calculate average students per year\n",
    "years_covered = df['CONVOCATORIA'].nunique()\n",
    "avg_students_per_year = total_beneficiaries / years_covered\n",
    "\n",
    "# Gender metrics\n",
    "female_percentage = (df['GÉNERO'] == 'FEMENINO').sum() / len(df) * 100\n",
    "female_grad_rate = (df[df['GÉNERO'] == 'FEMENINO']['GRADUADO'] == 'SI').sum() / (df['GÉNERO'] == 'FEMENINO').sum() * 100\n",
    "male_grad_rate = (df[df['GÉNERO'] == 'MASCULINO']['GRADUADO'] == 'SI').sum() / (df['GÉNERO'] == 'MASCULINO').sum() * 100\n",
    "gender_gap = abs(female_grad_rate - male_grad_rate)\n",
    "\n",
    "print(\"\\n📈 OVERALL PROGRAM METRICS:\")\n",
    "print(f\"   • Total beneficiaries: {total_beneficiaries:,}\")\n",
    "print(f\"   • Years covered: {years_covered}\")\n",
    "print(f\"   • Average students per year: {avg_students_per_year:,.0f}\")\n",
    "print(f\"   • Overall graduation rate: {overall_graduation_rate:.2f}%\")\n",
    "\n",
    "print(\"\\n👥 GENDER METRICS:\")\n",
    "print(f\"   • Female representation: {female_percentage:.1f}%\")\n",
    "print(f\"   • Female graduation rate: {female_grad_rate:.2f}%\")\n",
    "print(f\"   • Male graduation rate: {male_grad_rate:.2f}%\")\n",
    "print(f\"   • Gender gap in graduation: {gender_gap:.2f} percentage points\")\n",
    "\n",
    "# Most common profile\n",
    "print(\"\\n👤 MOST COMMON BENEFICIARY PROFILE:\")\n",
    "most_common_gender = df['GÉNERO'].mode()[0]\n",
    "most_common_estrato = df['ESTRATO_NUMERIC'].mode()[0]\n",
    "most_common_education = df['TIPO DE FORMACIÓN'].mode()[0]\n",
    "most_common_subregion = df['SUBREGIÓN DE RESIDENCIA'].mode()[0]\n",
    "\n",
    "print(f\"   • Gender: {most_common_gender}\")\n",
    "print(f\"   • Socioeconomic stratum: {most_common_estrato:.0f}\")\n",
    "print(f\"   • Education type: {most_common_education}\")\n",
    "print(f\"   • Subregion: {most_common_subregion}\")"
   ]
  },
  {
   "cell_type": "markdown",
   "metadata": {},
   "source": [
    "### Task 7.2: Program Effectiveness Analysis"
   ]
  },
  {
   "cell_type": "code",
   "execution_count": null,
   "metadata": {},
   "outputs": [],
   "source": [
    "print(\"🎯 PROGRAM EFFECTIVENESS BY SOCIOECONOMIC SEGMENT\")\n",
    "print(\"=\"*80)\n",
    "\n",
    "# Compare graduation rates by socioeconomic groups\n",
    "estrato_groups = {\n",
    "    'Low (1-2)': df[df['ESTRATO_CATEGORY'] == 'Low'],\n",
    "    'Medium (3-4)': df[df['ESTRATO_CATEGORY'] == 'Medium'],\n",
    "    'High (5-6)': df[df['ESTRATO_CATEGORY'] == 'High']\n",
    "}\n",
    "\n",
    "print(\"\\n📊 GRADUATION RATES BY SOCIOECONOMIC GROUP:\")\n",
    "for group_name, group_data in estrato_groups.items():\n",
    "    if len(group_data) > 0:\n",
    "        total = len(group_data)\n",
    "        graduated = (group_data['GRADUADO'] == 'SI').sum()\n",
    "        rate = (graduated / total) * 100\n",
    "        print(f\"   {group_name:<15} {rate:>6.2f}% ({graduated:,}/{total:,} students)\")\n",
    "\n",
    "# Education type effectiveness\n",
    "print(\"\\n📚 GRADUATION RATES BY EDUCATION TYPE:\")\n",
    "education_effectiveness = df.groupby('TIPO DE FORMACIÓN').apply(\n",
    "    lambda x: (x['GRADUADO'] == 'SI').sum() / len(x) * 100\n",
    ").sort_values(ascending=False)\n",
    "\n",
    "for edu_type, rate in education_effectiveness.items():\n",
    "    student_count = (df['TIPO DE FORMACIÓN'] == edu_type).sum()\n",
    "    print(f\"   {edu_type:<25} {rate:>6.2f}% ({student_count:,} students)\")\n",
    "\n",
    "# Regional performance\n",
    "print(\"\\n🌍 TOP 3 REGIONS BY PERFORMANCE:\")\n",
    "region_performance = df.groupby('SUBREGIÓN DE RESIDENCIA').apply(\n",
    "    lambda x: (x['GRADUADO'] == 'SI').sum() / len(x) * 100\n",
    ").nlargest(3)\n",
    "\n",
    "for i, (region, rate) in enumerate(region_performance.items(), 1):\n",
    "    student_count = (df['SUBREGIÓN DE RESIDENCIA'] == region).sum()\n",
    "    print(f\"   {i}. {region:<20} {rate:>6.2f}% ({student_count:,} students)\")"
   ]
  },
  {
   "cell_type": "markdown",
   "metadata": {},
   "source": [
    "### Task 7.3: Export Results"
   ]
  },
  {
   "cell_type": "code",
   "execution_count": null,
   "metadata": {},
   "outputs": [],
   "source": [
    "print(\"💾 EXPORTING ANALYSIS RESULTS\")\n",
    "print(\"=\"*80)\n",
    "\n",
    "# Create summary DataFrame with key findings\n",
    "summary_metrics = {\n",
    "    'Metric': [\n",
    "        'Total Beneficiaries',\n",
    "        'Overall Graduation Rate (%)',\n",
    "        'Female Graduation Rate (%)',\n",
    "        'Male Graduation Rate (%)',\n",
    "        'Gender Gap (pp)',\n",
    "        'Low Estrato Graduation Rate (%)',\n",
    "        'Medium Estrato Graduation Rate (%)',\n",
    "        'High Estrato Graduation Rate (%)'\n",
    "    ],\n",
    "    'Value': [\n",
    "        total_beneficiaries,\n",
    "        overall_graduation_rate,\n",
    "        female_grad_rate,\n",
    "        male_grad_rate,\n",
    "        gender_gap,\n",
    "        (df[df['ESTRATO_CATEGORY'] == 'Low']['GRADUADO'] == 'SI').sum() / len(df[df['ESTRATO_CATEGORY'] == 'Low']) * 100 if len(df[df['ESTRATO_CATEGORY'] == 'Low']) > 0 else 0,\n",
    "        (df[df['ESTRATO_CATEGORY'] == 'Medium']['GRADUADO'] == 'SI').sum() / len(df[df['ESTRATO_CATEGORY'] == 'Medium']) * 100 if len(df[df['ESTRATO_CATEGORY'] == 'Medium']) > 0 else 0,\n",
    "        (df[df['ESTRATO_CATEGORY'] == 'High']['GRADUADO'] == 'SI').sum() / len(df[df['ESTRATO_CATEGORY'] == 'High']) * 100 if len(df[df['ESTRATO_CATEGORY'] == 'High']) > 0 else 0\n",
    "    ]\n",
    "}\n",
    "\n",
    "summary_df = pd.DataFrame(summary_metrics)\n",
    "\n",
    "# Export summary\n",
    "summary_df.to_csv('scholarship_analysis_summary.csv', index=False)\n",
    "print(\"✅ Summary metrics exported to 'scholarship_analysis_summary.csv'\")\n",
    "\n",
    "# Export top performing universities\n",
    "top_5_universities.to_csv('top_performing_universities.csv')\n",
    "print(\"✅ Top performing universities exported to 'top_performing_universities.csv'\")\n",
    "\n",
    "# Export graduation rates by category\n",
    "graduation_by_category = df.groupby(['GÉNERO', 'TIPO DE FORMACIÓN', 'ESTRATO_CATEGORY']).agg({\n",
    "    'GRADUADO': ['count', lambda x: (x == 'SI').sum(), lambda x: (x == 'SI').sum() / len(x) * 100]\n",
    "})\n",
    "graduation_by_category.columns = ['Total', 'Graduated', 'Graduation_Rate(%)']\n",
    "graduation_by_category.to_csv('graduation_rates_detailed.csv')\n",
    "print(\"✅ Detailed graduation rates exported to 'graduation_rates_detailed.csv'\")\n",
    "\n",
    "print(\"\\n📊 Analysis complete! All results have been exported.\")"
   ]
  },
  {
   "cell_type": "markdown",
   "metadata": {},
   "source": [
    "---\n",
    "## 🎉 Workshop Complete!\n",
    "\n",
    "### 📝 Key Takeaways:\n",
    "\n",
    "1. **Data Quality**: Real-world data requires cleaning and type conversion\n",
    "2. **Gender Insights**: Analyzed gender gaps in education access and success\n",
    "3. **Socioeconomic Factors**: Lower strata students face different challenges\n",
    "4. **Program Effectiveness**: Different education types show varying success rates\n",
    "5. **Regional Patterns**: Geographic differences in program outcomes\n",
    "\n",
    "### 💡 Skills Practiced:\n",
    "- Data loading and exploration (The Big 3)\n",
    "- Data cleaning and type conversion\n",
    "- Pandas filtering and selection (loc/iloc)\n",
    "- NumPy arrays and vectorized operations\n",
    "- GroupBy operations and aggregations\n",
    "- Complex filtering and analysis\n",
    "- Exporting results for reporting\n",
    "\n",
    "### 🚀 Next Steps:\n",
    "- Try the challenge questions from the README\n",
    "- Explore additional patterns in the data\n",
    "- Create visualizations (when you learn them)\n",
    "- Share your insights with the class!"
   ]
  }
 ],
 "metadata": {
  "kernelspec": {
   "display_name": "Python 3",
   "language": "python",
   "name": "python3"
  },
  "language_info": {
   "codemirror_mode": {
    "name": "ipython",
    "version": 3
   },
   "file_extension": ".py",
   "mimetype": "text/x-python",
   "name": "python",
   "nbconvert_exporter": "python",
   "pygments_lexer": "ipython3",
   "version": "3.8.0"
  }
 },
 "nbformat": 4,
 "nbformat_minor": 4
}