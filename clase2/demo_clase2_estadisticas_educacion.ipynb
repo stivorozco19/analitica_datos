{
 "cells": [
  {
   "cell_type": "markdown",
   "metadata": {},
   "source": [
    "# 📚 Demo Clase 2: Análisis de Estadísticas Educativas en Colombia\n",
    "\n",
    "## 🎯 Objetivo\n",
    "Aplicar los conceptos de Python intermedio para análisis de datos usando un dataset real del Ministerio de Educación Nacional de Colombia.\n",
    "\n",
    "### 📋 Temas a cubrir:\n",
    "1. **Numpy**: Arrays y operaciones vectorizadas\n",
    "2. **Pandas**: DataFrames, Series e índices\n",
    "3. **Análisis Exploratorio de Datos (EDA)**: Los \"Big 3\" - head(), info(), describe()\n",
    "4. **Filtrado y agregaciones**: loc, iloc, groupby\n",
    "5. **Visualizaciones básicas**: Para entender los datos"
   ]
  },
  {
   "cell_type": "markdown",
   "metadata": {},
   "source": [
    "## 1️⃣ Importación de librerías"
   ]
  },
  {
   "cell_type": "code",
   "execution_count": null,
   "metadata": {},
   "outputs": [],
   "source": [
    "import pandas as pd\n",
    "import numpy as np\n",
    "import matplotlib.pyplot as plt\n",
    "import seaborn as sns\n",
    "import warnings\n",
    "\n",
    "# Configuración visual\n",
    "plt.style.use('seaborn-v0_8-darkgrid')\n",
    "sns.set_palette(\"husl\")\n",
    "warnings.filterwarnings('ignore')\n",
    "\n",
    "# Configuración de pandas para mejor visualización\n",
    "pd.set_option('display.max_columns', 20)\n",
    "pd.set_option('display.max_rows', 100)\n",
    "pd.set_option('display.float_format', '{:.2f}'.format)\n",
    "\n",
    "print(\"✅ Librerías importadas correctamente\")\n",
    "print(f\"Pandas version: {pd.__version__}\")\n",
    "print(f\"Numpy version: {np.__version__}\")"
   ]
  },
  {
   "cell_type": "markdown",
   "metadata": {},
   "source": [
    "## 2️⃣ Carga de Datos\n",
    "\n",
    "### 📂 Dataset: Estadísticas de Educación Preescolar, Básica y Media por Municipio"
   ]
  },
  {
   "cell_type": "code",
   "execution_count": null,
   "metadata": {},
   "outputs": [],
   "source": [
    "# Cargar el dataset\n",
    "file_path = 'MEN_ESTADISTICAS_EN_EDUCACION_EN_PREESCOLAR__B_SICA_Y_MEDIA_POR_MUNICIPIO_20250815.csv'\n",
    "\n",
    "# Usando pandas para leer el CSV\n",
    "df = pd.read_csv(file_path)\n",
    "\n",
    "print(\"✅ Dataset cargado exitosamente\")\n",
    "print(f\"Dimensiones del dataset: {df.shape[0]} filas x {df.shape[1]} columnas\")\n",
    "\n",
    "# Limpieza y conversión de tipos de datos\n",
    "print(\"\\n🔧 LIMPIEZA DE DATOS:\")\n",
    "print(\"=\"*50)\n",
    "\n",
    "# Función para convertir a numérico, manejando errores\n",
    "def convertir_numerico(serie):\n",
    "    return pd.to_numeric(serie, errors='coerce')\n",
    "\n",
    "# Columnas que deberían ser numéricas\n",
    "columnas_numericas = [\n",
    "    'POBLACIÓN_5_16', 'TASA_MATRICULACIÓN_5_16', 'COBERTURA_NETA', \n",
    "    'COBERTURA_NETA_TRANSICIÓN', 'COBERTURA_NETA_PRIMARIA', \n",
    "    'COBERTURA_NETA_SECUNDARIA', 'COBERTURA_NETA_MEDIA',\n",
    "    'DESERCIÓN', 'DESERCIÓN_TRANSICIÓN', 'DESERCIÓN_PRIMARIA', \n",
    "    'DESERCIÓN_SECUNDARIA', 'DESERCIÓN_MEDIA',\n",
    "    'APROBACIÓN', 'APROBACIÓN_TRANSICIÓN', 'APROBACIÓN_PRIMARIA', \n",
    "    'APROBACIÓN_SECUNDARIA', 'APROBACIÓN_MEDIA',\n",
    "    'REPROBACIÓN', 'REPROBACIÓN_TRANSICIÓN', 'REPROBACIÓN_PRIMARIA', \n",
    "    'REPROBACIÓN_SECUNDARIA', 'REPROBACIÓN_MEDIA'\n",
    "]\n",
    "\n",
    "# Convertir columnas a numéricas\n",
    "for col in columnas_numericas:\n",
    "    if col in df.columns:\n",
    "        valores_originales = df[col].dtype\n",
    "        df[col] = convertir_numerico(df[col])\n",
    "        print(f\"✅ {col}: {valores_originales} -> {df[col].dtype}\")\n",
    "\n",
    "print(f\"\\n📊 Tipos de datos actualizados correctamente\")"
   ]
  },
  {
   "cell_type": "markdown",
   "metadata": {},
   "source": [
    "## 3️⃣ Los \"Big 3\" del Análisis Exploratorio\n",
    "\n",
    "### 📊 Estos son los tres métodos más importantes para entender tus datos"
   ]
  },
  {
   "cell_type": "code",
   "execution_count": null,
   "metadata": {},
   "outputs": [],
   "source": [
    "# 1. HEAD() - Ver las primeras filas\n",
    "print(\"📋 PRIMERAS 5 FILAS DEL DATASET:\")\n",
    "print(\"=\"*80)\n",
    "df.head()"
   ]
  },
  {
   "cell_type": "code",
   "execution_count": null,
   "metadata": {},
   "outputs": [],
   "source": [
    "# 2. INFO() - Información general del dataset\n",
    "print(\"📊 INFORMACIÓN GENERAL DEL DATASET:\")\n",
    "print(\"=\"*80)\n",
    "df.info()"
   ]
  },
  {
   "cell_type": "code",
   "execution_count": null,
   "metadata": {},
   "outputs": [],
   "source": [
    "# 3. DESCRIBE() - Estadísticas descriptivas\n",
    "print(\"📈 ESTADÍSTICAS DESCRIPTIVAS:\")\n",
    "print(\"=\"*80)\n",
    "df.describe()"
   ]
  },
  {
   "cell_type": "markdown",
   "metadata": {},
   "source": [
    "## 4️⃣ Análisis de Estructura de Datos\n",
    "\n",
    "### 🔍 Entendiendo nuestro dataset"
   ]
  },
  {
   "cell_type": "code",
   "execution_count": null,
   "metadata": {},
   "outputs": [],
   "source": [
    "# Explorar las columnas disponibles\n",
    "print(\"📋 COLUMNAS DISPONIBLES:\")\n",
    "print(\"=\"*80)\n",
    "for i, col in enumerate(df.columns, 1):\n",
    "    print(f\"{i:2d}. {col}\")\n",
    "\n",
    "print(f\"\\n📊 Total de columnas: {len(df.columns)}\")"
   ]
  },
  {
   "cell_type": "code",
   "execution_count": null,
   "metadata": {},
   "outputs": [],
   "source": [
    "# Verificar valores únicos en columnas categóricas clave\n",
    "print(\"🏫 ANÁLISIS DE DATOS CATEGÓRICOS:\")\n",
    "print(\"=\"*80)\n",
    "\n",
    "columnas_categoricas = ['DEPARTAMENTO', 'ETC']\n",
    "\n",
    "for col in columnas_categoricas:\n",
    "    print(f\"\\n📍 {col}:\")\n",
    "    print(f\"   - Valores únicos: {df[col].nunique()}\")\n",
    "    print(f\"   - Top 5 más frecuentes:\")\n",
    "    print(df[col].value_counts().head())"
   ]
  },
  {
   "cell_type": "code",
   "execution_count": null,
   "metadata": {},
   "outputs": [],
   "source": [
    "# Verificar valores nulos\n",
    "print(\"🔍 ANÁLISIS DE VALORES NULOS:\")\n",
    "print(\"=\"*80)\n",
    "\n",
    "nulos = df.isnull().sum()\n",
    "nulos_pct = (nulos / len(df)) * 100\n",
    "\n",
    "# Crear DataFrame con información de nulos\n",
    "nulos_df = pd.DataFrame({\n",
    "    'Columna': nulos.index,\n",
    "    'Valores_Nulos': nulos.values,\n",
    "    'Porcentaje': nulos_pct.values\n",
    "})\n",
    "\n",
    "# Filtrar solo columnas con valores nulos\n",
    "nulos_df = nulos_df[nulos_df['Valores_Nulos'] > 0].sort_values('Porcentaje', ascending=False)\n",
    "\n",
    "if len(nulos_df) > 0:\n",
    "    print(nulos_df)\n",
    "else:\n",
    "    print(\"✅ No hay valores nulos en el dataset!\")"
   ]
  },
  {
   "cell_type": "markdown",
   "metadata": {},
   "source": [
    "## 5️⃣ Trabajando con NumPy\n",
    "\n",
    "### ⚡ Operaciones vectorizadas para mayor eficiencia"
   ]
  },
  {
   "cell_type": "code",
   "execution_count": null,
   "metadata": {},
   "outputs": [],
   "source": [
    "# Convertir columnas numéricas a arrays de NumPy\n",
    "print(\"🔢 TRABAJANDO CON NUMPY ARRAYS:\")\n",
    "print(\"=\"*80)\n",
    "\n",
    "# Seleccionar columnas de cobertura\n",
    "coberturas = ['COBERTURA_NETA', 'COBERTURA_NETA_PRIMARIA', \n",
    "              'COBERTURA_NETA_SECUNDARIA', 'COBERTURA_NETA_MEDIA']\n",
    "\n",
    "# Crear arrays NumPy\n",
    "cobertura_arrays = {}\n",
    "for col in coberturas:\n",
    "    if col in df.columns:\n",
    "        # Convertir a array numpy, manejando valores nulos\n",
    "        array = df[col].fillna(0).values\n",
    "        cobertura_arrays[col] = array\n",
    "        print(f\"\\n📊 {col}:\")\n",
    "        print(f\"   - Tipo: {type(array)}\")\n",
    "        print(f\"   - Shape: {array.shape}\")\n",
    "        print(f\"   - Media: {np.mean(array):.2f}\")\n",
    "        print(f\"   - Desv. Estándar: {np.std(array):.2f}\")\n",
    "        print(f\"   - Min: {np.min(array):.2f}, Max: {np.max(array):.2f}\")"
   ]
  },
  {
   "cell_type": "code",
   "execution_count": null,
   "metadata": {},
   "outputs": [],
   "source": [
    "# Comparación de velocidad: Python vs NumPy\n",
    "import time\n",
    "\n",
    "print(\"⚡ COMPARACIÓN DE RENDIMIENTO: PYTHON vs NUMPY\")\n",
    "print(\"=\"*80)\n",
    "\n",
    "# Usar la columna de población\n",
    "poblacion = df['POBLACIÓN_5_16'].fillna(0).values\n",
    "\n",
    "# Método Python tradicional\n",
    "start = time.time()\n",
    "resultado_python = [x * 2 for x in poblacion]\n",
    "tiempo_python = time.time() - start\n",
    "\n",
    "# Método NumPy (vectorizado)\n",
    "start = time.time()\n",
    "resultado_numpy = poblacion * 2\n",
    "tiempo_numpy = time.time() - start\n",
    "\n",
    "print(f\"\\n🐍 Python (list comprehension): {tiempo_python:.6f} segundos\")\n",
    "print(f\"⚡ NumPy (vectorizado): {tiempo_numpy:.6f} segundos\")\n",
    "print(f\"\\n🚀 NumPy es {tiempo_python/tiempo_numpy:.1f}x más rápido!\")"
   ]
  },
  {
   "cell_type": "markdown",
   "metadata": {},
   "source": [
    "## 6️⃣ Pandas: Series vs DataFrame\n",
    "\n",
    "### 📊 Entendiendo las estructuras de datos fundamentales"
   ]
  },
  {
   "cell_type": "code",
   "execution_count": null,
   "metadata": {},
   "outputs": [],
   "source": [
    "# Crear una Serie desde una columna\n",
    "print(\"📈 PANDAS SERIES:\")\n",
    "print(\"=\"*80)\n",
    "\n",
    "# Serie de tasas de deserción\n",
    "desercion_serie = df['DESERCIÓN']\n",
    "\n",
    "print(f\"Tipo: {type(desercion_serie)}\")\n",
    "print(f\"\\nPrimeros 5 valores:\")\n",
    "print(desercion_serie.head())\n",
    "print(f\"\\nEstadísticas de la Serie:\")\n",
    "print(desercion_serie.describe())"
   ]
  },
  {
   "cell_type": "code",
   "execution_count": null,
   "metadata": {},
   "outputs": [],
   "source": [
    "# Crear un DataFrame subset\n",
    "print(\"📊 PANDAS DATAFRAME:\")\n",
    "print(\"=\"*80)\n",
    "\n",
    "# Seleccionar columnas específicas para crear un nuevo DataFrame\n",
    "columnas_subset = ['MUNICIPIO', 'DEPARTAMENTO', 'POBLACIÓN_5_16', \n",
    "                   'COBERTURA_NETA', 'DESERCIÓN', 'APROBACIÓN']\n",
    "\n",
    "df_subset = df[columnas_subset].copy()\n",
    "\n",
    "print(f\"Tipo: {type(df_subset)}\")\n",
    "print(f\"Shape: {df_subset.shape}\")\n",
    "print(f\"\\nPrimeras 3 filas del subset:\")\n",
    "df_subset.head(3)"
   ]
  },
  {
   "cell_type": "markdown",
   "metadata": {},
   "source": [
    "## 7️⃣ Indexación y Filtrado\n",
    "\n",
    "### 🔍 loc vs iloc - Las herramientas fundamentales para acceder a datos"
   ]
  },
  {
   "cell_type": "code",
   "execution_count": null,
   "metadata": {},
   "outputs": [],
   "source": [
    "# iloc - Indexación por posición (números)\n",
    "print(\"🔢 ILOC - Indexación por POSICIÓN:\")\n",
    "print(\"=\"*80)\n",
    "\n",
    "# Primera fila\n",
    "print(\"Primera fila (iloc[0]):\")\n",
    "print(df.iloc[0][['MUNICIPIO', 'DEPARTAMENTO', 'COBERTURA_NETA']])\n",
    "\n",
    "print(\"\\nPrimeras 3 filas, columnas 2-5 (iloc[0:3, 2:5]):\")\n",
    "print(df.iloc[0:3, 2:5])"
   ]
  },
  {
   "cell_type": "code",
   "execution_count": null,
   "metadata": {},
   "outputs": [],
   "source": [
    "# loc - Indexación por etiqueta\n",
    "print(\"🏷️ LOC - Indexación por ETIQUETA:\")\n",
    "print(\"=\"*80)\n",
    "\n",
    "# Filas 0-2, columnas específicas\n",
    "print(\"Filas 0-2, columnas específicas:\")\n",
    "print(df.loc[0:2, ['MUNICIPIO', 'DEPARTAMENTO', 'COBERTURA_NETA']])\n",
    "\n",
    "# Filtrado con condiciones\n",
    "print(\"\\n🎯 Municipios de Antioquia con cobertura neta > 90:\")\n",
    "filtro_antioquia = df.loc[\n",
    "    (df['DEPARTAMENTO'] == 'Antioquia') & \n",
    "    (df['COBERTURA_NETA'] > 90),\n",
    "    ['MUNICIPIO', 'COBERTURA_NETA', 'POBLACIÓN_5_16']\n",
    "].head(5)\n",
    "\n",
    "print(filtro_antioquia)"
   ]
  },
  {
   "cell_type": "markdown",
   "metadata": {},
   "source": [
    "## 8️⃣ Filtrado Avanzado\n",
    "\n",
    "### 🎯 Aplicando múltiples condiciones"
   ]
  },
  {
   "cell_type": "code",
   "execution_count": null,
   "metadata": {},
   "outputs": [],
   "source": [
    "# Filtrado con múltiples condiciones\n",
    "print(\"🔍 FILTRADO CON MÚLTIPLES CONDICIONES:\")\n",
    "print(\"=\"*80)\n",
    "\n",
    "# Municipios con alta cobertura y baja deserción\n",
    "# Primero filtrar valores válidos\n",
    "df_validos = df.dropna(subset=['COBERTURA_NETA', 'DESERCIÓN', 'POBLACIÓN_5_16'])\n",
    "\n",
    "municipios_destacados = df_validos[\n",
    "    (df_validos['COBERTURA_NETA'] > 85) & \n",
    "    (df_validos['DESERCIÓN'] < 3) &\n",
    "    (df_validos['POBLACIÓN_5_16'] > 1000)\n",
    "].copy()\n",
    "\n",
    "print(f\"\\n✅ Encontrados {len(municipios_destacados)} municipios destacados\")\n",
    "print(\"   (Cobertura > 85%, Deserción < 3%, Población > 1000)\\n\")\n",
    "\n",
    "# Mostrar los top 10\n",
    "if len(municipios_destacados) > 0:\n",
    "    municipios_destacados_top = municipios_destacados.nlargest(10, 'COBERTURA_NETA')[[\n",
    "        'MUNICIPIO', 'DEPARTAMENTO', 'COBERTURA_NETA', 'DESERCIÓN', 'POBLACIÓN_5_16'\n",
    "    ]]\n",
    "    \n",
    "    print(\"Top 10 municipios por cobertura neta:\")\n",
    "    municipios_destacados_top\n",
    "else:\n",
    "    print(\"No se encontraron municipios que cumplan todos los criterios.\")\n",
    "    # Mostrar criterios menos estrictos\n",
    "    municipios_alternativos = df_validos[\n",
    "        (df_validos['COBERTURA_NETA'] > 80) & \n",
    "        (df_validos['DESERCIÓN'] < 5)\n",
    "    ].nlargest(10, 'COBERTURA_NETA')[[\n",
    "        'MUNICIPIO', 'DEPARTAMENTO', 'COBERTURA_NETA', 'DESERCIÓN', 'POBLACIÓN_5_16'\n",
    "    ]]\n",
    "    print(\"\\nMunicipios con criterios menos estrictos (Cobertura > 80%, Deserción < 5%):\")\n",
    "    municipios_alternativos"
   ]
  },
  {
   "cell_type": "code",
   "execution_count": null,
   "metadata": {},
   "outputs": [],
   "source": [
    "# Uso de isin() para filtrar múltiples valores\n",
    "print(\"🎯 FILTRADO CON ISIN():\")\n",
    "print(\"=\"*80)\n",
    "\n",
    "# Filtrar por departamentos específicos\n",
    "departamentos_interes = ['Antioquia', 'Valle del Cauca', 'Cundinamarca', 'Atlántico']\n",
    "\n",
    "df_departamentos = df[df['DEPARTAMENTO'].isin(departamentos_interes)].copy()\n",
    "\n",
    "print(f\"\\n📊 Datos de {len(df_departamentos)} municipios en los departamentos seleccionados\")\n",
    "print(\"\\nDistribución por departamento:\")\n",
    "print(df_departamentos['DEPARTAMENTO'].value_counts())"
   ]
  },
  {
   "cell_type": "markdown",
   "metadata": {},
   "source": [
    "## 9️⃣ GroupBy - Agregaciones Poderosas\n",
    "\n",
    "### 📊 La herramienta más importante para análisis agregado"
   ]
  },
  {
   "cell_type": "code",
   "execution_count": 1,
   "metadata": {},
   "outputs": [
    {
     "name": "stdout",
     "output_type": "stream",
     "text": [
      "📈 GROUPBY - ANÁLISIS POR DEPARTAMENTO:\n",
      "================================================================================\n"
     ]
    },
    {
     "ename": "NameError",
     "evalue": "name 'df' is not defined",
     "output_type": "error",
     "traceback": [
      "\u001b[31m---------------------------------------------------------------------------\u001b[39m",
      "\u001b[31mNameError\u001b[39m                                 Traceback (most recent call last)",
      "\u001b[36mCell\u001b[39m\u001b[36m \u001b[39m\u001b[32mIn[1]\u001b[39m\u001b[32m, line 7\u001b[39m\n\u001b[32m      3\u001b[39m \u001b[38;5;28mprint\u001b[39m(\u001b[33m\"\u001b[39m\u001b[33m=\u001b[39m\u001b[33m\"\u001b[39m*\u001b[32m80\u001b[39m)\n\u001b[32m      5\u001b[39m \u001b[38;5;66;03m# Agrupar por departamento y calcular estadísticas\u001b[39;00m\n\u001b[32m      6\u001b[39m \u001b[38;5;66;03m# Asegurar que las columnas sean numéricas antes de agrupar\u001b[39;00m\n\u001b[32m----> \u001b[39m\u001b[32m7\u001b[39m stats_por_depto = \u001b[43mdf\u001b[49m.groupby(\u001b[33m'\u001b[39m\u001b[33mDEPARTAMENTO\u001b[39m\u001b[33m'\u001b[39m).agg({\n\u001b[32m      8\u001b[39m     \u001b[33m'\u001b[39m\u001b[33mPOBLACIÓN_5_16\u001b[39m\u001b[33m'\u001b[39m: \u001b[33m'\u001b[39m\u001b[33msum\u001b[39m\u001b[33m'\u001b[39m,\n\u001b[32m      9\u001b[39m     \u001b[33m'\u001b[39m\u001b[33mCOBERTURA_NETA\u001b[39m\u001b[33m'\u001b[39m: \u001b[33m'\u001b[39m\u001b[33mmean\u001b[39m\u001b[33m'\u001b[39m,\n\u001b[32m     10\u001b[39m     \u001b[33m'\u001b[39m\u001b[33mDESERCIÓN\u001b[39m\u001b[33m'\u001b[39m: \u001b[33m'\u001b[39m\u001b[33mmean\u001b[39m\u001b[33m'\u001b[39m,\n\u001b[32m     11\u001b[39m     \u001b[33m'\u001b[39m\u001b[33mAPROBACIÓN\u001b[39m\u001b[33m'\u001b[39m: \u001b[33m'\u001b[39m\u001b[33mmean\u001b[39m\u001b[33m'\u001b[39m,\n\u001b[32m     12\u001b[39m     \u001b[33m'\u001b[39m\u001b[33mMUNICIPIO\u001b[39m\u001b[33m'\u001b[39m: \u001b[33m'\u001b[39m\u001b[33mcount\u001b[39m\u001b[33m'\u001b[39m  \u001b[38;5;66;03m# Contar municipios\u001b[39;00m\n\u001b[32m     13\u001b[39m }).round(\u001b[32m2\u001b[39m)\n\u001b[32m     15\u001b[39m \u001b[38;5;66;03m# Renombrar columnas\u001b[39;00m\n\u001b[32m     16\u001b[39m stats_por_depto.columns = [\u001b[33m'\u001b[39m\u001b[33mPoblación_Total\u001b[39m\u001b[33m'\u001b[39m, \u001b[33m'\u001b[39m\u001b[33mCobertura_Promedio\u001b[39m\u001b[33m'\u001b[39m, \n\u001b[32m     17\u001b[39m                            \u001b[33m'\u001b[39m\u001b[33mDeserción_Promedio\u001b[39m\u001b[33m'\u001b[39m, \u001b[33m'\u001b[39m\u001b[33mAprobación_Promedio\u001b[39m\u001b[33m'\u001b[39m, \n\u001b[32m     18\u001b[39m                            \u001b[33m'\u001b[39m\u001b[33mNúmero_Municipios\u001b[39m\u001b[33m'\u001b[39m]\n",
      "\u001b[31mNameError\u001b[39m: name 'df' is not defined"
     ]
    }
   ],
   "source": [
    "# GroupBy básico - Por departamento\n",
    "print(\"📈 GROUPBY - ANÁLISIS POR DEPARTAMENTO:\")\n",
    "print(\"=\"*80)\n",
    "\n",
    "# Agrupar por departamento y calcular estadísticas\n",
    "# Asegurar que las columnas sean numéricas antes de agrupar\n",
    "stats_por_depto = df.groupby('DEPARTAMENTO').agg({\n",
    "    'POBLACIÓN_5_16': 'sum',\n",
    "    'COBERTURA_NETA': 'mean',\n",
    "    'DESERCIÓN': 'mean',\n",
    "    'APROBACIÓN': 'mean',\n",
    "    'MUNICIPIO': 'count'  # Contar municipios\n",
    "}).round(2)\n",
    "\n",
    "# Renombrar columnas\n",
    "stats_por_depto.columns = ['Población_Total', 'Cobertura_Promedio', \n",
    "                           'Deserción_Promedio', 'Aprobación_Promedio', \n",
    "                           'Número_Municipios']\n",
    "\n",
    "# Filtrar departamentos con datos válidos y ordenar por población total\n",
    "stats_por_depto = stats_por_depto.dropna(subset=['Población_Total'])\n",
    "stats_por_depto = stats_por_depto.sort_values('Población_Total', ascending=False)\n",
    "\n",
    "print(\"\\nTop 10 departamentos por población estudiantil:\")\n",
    "stats_por_depto.head(10)"
   ]
  },
  {
   "cell_type": "code",
   "execution_count": null,
   "metadata": {},
   "outputs": [],
   "source": [
    "# GroupBy con múltiples funciones\n",
    "print(\"📊 GROUPBY - ESTADÍSTICAS MÚLTIPLES:\")\n",
    "print(\"=\"*80)\n",
    "\n",
    "# Estadísticas detalladas de cobertura por departamento\n",
    "cobertura_stats = df.groupby('DEPARTAMENTO')['COBERTURA_NETA'].agg([\n",
    "    'count',\n",
    "    'mean',\n",
    "    'median',\n",
    "    'std',\n",
    "    'min',\n",
    "    'max'\n",
    "]).round(2)\n",
    "\n",
    "# Renombrar columnas\n",
    "cobertura_stats.columns = ['Municipios', 'Media', 'Mediana', \n",
    "                           'Desv_Std', 'Mínimo', 'Máximo']\n",
    "\n",
    "# Top 5 departamentos con mejor cobertura promedio\n",
    "print(\"\\n🏆 Top 5 departamentos con mejor cobertura neta promedio:\")\n",
    "cobertura_stats.nlargest(5, 'Media')"
   ]
  },
  {
   "cell_type": "markdown",
   "metadata": {},
   "source": [
    "## 🔟 Visualizaciones Básicas\n",
    "\n",
    "### 📊 Visualizando nuestros hallazgos"
   ]
  },
  {
   "cell_type": "code",
   "execution_count": null,
   "metadata": {},
   "outputs": [],
   "source": [
    "# Configurar el tamaño de las figuras\n",
    "plt.figure(figsize=(15, 10))\n",
    "\n",
    "# 1. Distribución de Cobertura Neta\n",
    "plt.subplot(2, 3, 1)\n",
    "df['COBERTURA_NETA'].dropna().hist(bins=30, edgecolor='black', alpha=0.7)\n",
    "plt.title('Distribución de Cobertura Neta', fontsize=12, fontweight='bold')\n",
    "plt.xlabel('Cobertura Neta (%)')\n",
    "plt.ylabel('Frecuencia')\n",
    "media_cobertura = df['COBERTURA_NETA'].mean()\n",
    "plt.axvline(media_cobertura, color='red', linestyle='--', label=f'Media: {media_cobertura:.1f}%')\n",
    "plt.legend()\n",
    "\n",
    "# 2. Relación Cobertura vs Deserción\n",
    "plt.subplot(2, 3, 2)\n",
    "# Filtrar valores válidos para ambas variables\n",
    "datos_validos = df[['COBERTURA_NETA', 'DESERCIÓN']].dropna()\n",
    "plt.scatter(datos_validos['COBERTURA_NETA'], datos_validos['DESERCIÓN'], alpha=0.5)\n",
    "plt.title('Cobertura Neta vs Deserción', fontsize=12, fontweight='bold')\n",
    "plt.xlabel('Cobertura Neta (%)')\n",
    "plt.ylabel('Deserción (%)')\n",
    "\n",
    "# 3. Top 10 Departamentos por Población\n",
    "plt.subplot(2, 3, 3)\n",
    "# Agrupar y convertir a numérico antes de sumar\n",
    "poblacion_por_depto = df.groupby('DEPARTAMENTO')['POBLACIÓN_5_16'].sum()\n",
    "# Filtrar valores válidos y obtener top 10\n",
    "top_deptos = poblacion_por_depto.dropna().nlargest(10)\n",
    "top_deptos.plot(kind='barh')\n",
    "plt.title('Top 10 Departamentos por Población Estudiantil', fontsize=12, fontweight='bold')\n",
    "plt.xlabel('Población (5-16 años)')\n",
    "\n",
    "# 4. Boxplot de Cobertura por Nivel\n",
    "plt.subplot(2, 3, 4)\n",
    "coberturas_niveles = df[['COBERTURA_NETA_TRANSICIÓN', 'COBERTURA_NETA_PRIMARIA', \n",
    "                         'COBERTURA_NETA_SECUNDARIA', 'COBERTURA_NETA_MEDIA']].dropna()\n",
    "if not coberturas_niveles.empty:\n",
    "    coberturas_niveles.boxplot()\n",
    "    plt.title('Cobertura por Nivel Educativo', fontsize=12, fontweight='bold')\n",
    "    plt.xticks(rotation=45, ha='right')\n",
    "    plt.ylabel('Cobertura (%)')\n",
    "else:\n",
    "    plt.text(0.5, 0.5, 'Datos no disponibles', ha='center', va='center', transform=plt.gca().transAxes)\n",
    "    plt.title('Cobertura por Nivel Educativo', fontsize=12, fontweight='bold')\n",
    "\n",
    "# 5. Distribución de Deserción\n",
    "plt.subplot(2, 3, 5)\n",
    "df['DESERCIÓN'].dropna().hist(bins=30, edgecolor='black', alpha=0.7, color='orange')\n",
    "plt.title('Distribución de Tasas de Deserción', fontsize=12, fontweight='bold')\n",
    "plt.xlabel('Deserción (%)')\n",
    "plt.ylabel('Frecuencia')\n",
    "media_desercion = df['DESERCIÓN'].mean()\n",
    "plt.axvline(media_desercion, color='red', linestyle='--', label=f'Media: {media_desercion:.1f}%')\n",
    "plt.legend()\n",
    "\n",
    "# 6. Correlación Aprobación vs Reprobación\n",
    "plt.subplot(2, 3, 6)\n",
    "# Filtrar valores válidos para ambas variables\n",
    "datos_aprobacion = df[['APROBACIÓN', 'REPROBACIÓN']].dropna()\n",
    "if not datos_aprobacion.empty:\n",
    "    plt.scatter(datos_aprobacion['APROBACIÓN'], datos_aprobacion['REPROBACIÓN'], alpha=0.5, color='green')\n",
    "    plt.title('Aprobación vs Reprobación', fontsize=12, fontweight='bold')\n",
    "    plt.xlabel('Aprobación (%)')\n",
    "    plt.ylabel('Reprobación (%)')\n",
    "else:\n",
    "    plt.text(0.5, 0.5, 'Datos no disponibles', ha='center', va='center', transform=plt.gca().transAxes)\n",
    "    plt.title('Aprobación vs Reprobación', fontsize=12, fontweight='bold')\n",
    "\n",
    "plt.tight_layout()\n",
    "plt.show()"
   ]
  },
  {
   "cell_type": "markdown",
   "metadata": {},
   "source": [
    "## 1️⃣1️⃣ Análisis Avanzado\n",
    "\n",
    "### 🎯 Aplicando todo lo aprendido"
   ]
  },
  {
   "cell_type": "code",
   "execution_count": null,
   "metadata": {},
   "outputs": [],
   "source": [
    "# Crear categorías de cobertura\n",
    "print(\"🏷️ CATEGORIZACIÓN DE MUNICIPIOS POR COBERTURA:\")\n",
    "print(\"=\"*80)\n",
    "\n",
    "# Definir categorías\n",
    "def categorizar_cobertura(cobertura):\n",
    "    if cobertura >= 95:\n",
    "        return 'Excelente'\n",
    "    elif cobertura >= 85:\n",
    "        return 'Buena'\n",
    "    elif cobertura >= 75:\n",
    "        return 'Regular'\n",
    "    else:\n",
    "        return 'Baja'\n",
    "\n",
    "# Aplicar categorización\n",
    "df['CATEGORIA_COBERTURA'] = df['COBERTURA_NETA'].apply(categorizar_cobertura)\n",
    "\n",
    "# Análisis por categoría\n",
    "print(\"\\n📊 Distribución de municipios por categoría de cobertura:\")\n",
    "print(df['CATEGORIA_COBERTURA'].value_counts())\n",
    "print(f\"\\n📈 Porcentaje por categoría:\")\n",
    "print(df['CATEGORIA_COBERTURA'].value_counts(normalize=True).mul(100).round(1))"
   ]
  },
  {
   "cell_type": "code",
   "execution_count": null,
   "metadata": {},
   "outputs": [],
   "source": [
    "# Análisis de correlaciones\n",
    "print(\"📊 MATRIZ DE CORRELACIÓN:\")\n",
    "print(\"=\"*80)\n",
    "\n",
    "# Seleccionar columnas numéricas relevantes\n",
    "columnas_correlacion = [\n",
    "    'COBERTURA_NETA', 'DESERCIÓN', 'APROBACIÓN', 'REPROBACIÓN', \n",
    "    'REPITENCIA', 'POBLACIÓN_5_16'\n",
    "]\n",
    "\n",
    "# Calcular matriz de correlación\n",
    "correlacion = df[columnas_correlacion].corr()\n",
    "\n",
    "# Visualizar con heatmap\n",
    "plt.figure(figsize=(10, 8))\n",
    "sns.heatmap(correlacion, annot=True, cmap='coolwarm', center=0, \n",
    "            fmt='.2f', square=True, linewidths=1)\n",
    "plt.title('Matriz de Correlación - Indicadores Educativos', fontsize=14, fontweight='bold')\n",
    "plt.tight_layout()\n",
    "plt.show()\n",
    "\n",
    "# Correlaciones más fuertes\n",
    "print(\"\\n🔍 Correlaciones más significativas:\")\n",
    "print(\"   • Aprobación vs Reprobación:\", f\"{correlacion.loc['APROBACIÓN', 'REPROBACIÓN']:.3f}\")\n",
    "print(\"   • Deserción vs Aprobación:\", f\"{correlacion.loc['DESERCIÓN', 'APROBACIÓN']:.3f}\")\n",
    "print(\"   • Cobertura vs Deserción:\", f\"{correlacion.loc['COBERTURA_NETA', 'DESERCIÓN']:.3f}\")"
   ]
  },
  {
   "cell_type": "markdown",
   "metadata": {},
   "source": [
    "## 1️⃣2️⃣ Insights y Conclusiones\n",
    "\n",
    "### 💡 Principales hallazgos del análisis"
   ]
  },
  {
   "cell_type": "code",
   "execution_count": null,
   "metadata": {},
   "outputs": [],
   "source": [
    "print(\"📊 RESUMEN EJECUTIVO DEL ANÁLISIS\")\n",
    "print(\"=\"*80)\n",
    "\n",
    "# Calcular estadísticas clave\n",
    "total_municipios = len(df)\n",
    "# Usar solo datos válidos para los cálculos\n",
    "df_calculo = df.dropna(subset=['POBLACIÓN_5_16', 'COBERTURA_NETA', 'DESERCIÓN'])\n",
    "\n",
    "total_estudiantes = df_calculo['POBLACIÓN_5_16'].sum()\n",
    "cobertura_promedio = df_calculo['COBERTURA_NETA'].mean()\n",
    "desercion_promedio = df_calculo['DESERCIÓN'].mean()\n",
    "\n",
    "# Mejores y peores municipios\n",
    "if not df_calculo.empty:\n",
    "    mejor_cobertura = df_calculo.nlargest(1, 'COBERTURA_NETA')[['MUNICIPIO', 'DEPARTAMENTO', 'COBERTURA_NETA']].iloc[0]\n",
    "    peor_cobertura = df_calculo.nsmallest(1, 'COBERTURA_NETA')[['MUNICIPIO', 'DEPARTAMENTO', 'COBERTURA_NETA']].iloc[0]\n",
    "else:\n",
    "    mejor_cobertura = {'MUNICIPIO': 'N/A', 'DEPARTAMENTO': 'N/A', 'COBERTURA_NETA': 0}\n",
    "    peor_cobertura = {'MUNICIPIO': 'N/A', 'DEPARTAMENTO': 'N/A', 'COBERTURA_NETA': 0}\n",
    "\n",
    "print(f\"\\n📈 ESTADÍSTICAS GENERALES:\")\n",
    "print(f\"   • Total de municipios analizados: {total_municipios:,}\")\n",
    "print(f\"   • Población estudiantil total (5-16 años): {total_estudiantes:,.0f}\")\n",
    "print(f\"   • Cobertura neta promedio nacional: {cobertura_promedio:.1f}%\")\n",
    "print(f\"   • Tasa de deserción promedio: {desercion_promedio:.1f}%\")\n",
    "\n",
    "print(f\"\\n🏆 MEJORES INDICADORES:\")\n",
    "print(f\"   • Mejor cobertura: {mejor_cobertura['MUNICIPIO']} ({mejor_cobertura['DEPARTAMENTO']}) - {mejor_cobertura['COBERTURA_NETA']:.1f}%\")\n",
    "\n",
    "print(f\"\\n⚠️ ÁREAS DE MEJORA:\")\n",
    "print(f\"   • Menor cobertura: {peor_cobertura['MUNICIPIO']} ({peor_cobertura['DEPARTAMENTO']}) - {peor_cobertura['COBERTURA_NETA']:.1f}%\")\n",
    "\n",
    "# Departamentos con mejores indicadores\n",
    "print(f\"\\n🌟 TOP 3 DEPARTAMENTOS POR COBERTURA PROMEDIO:\")\n",
    "cobertura_por_depto = df_calculo.groupby('DEPARTAMENTO')['COBERTURA_NETA'].mean()\n",
    "top_3_deptos = cobertura_por_depto.nlargest(3)\n",
    "for i, (depto, cobertura) in enumerate(top_3_deptos.items(), 1):\n",
    "    print(f\"   {i}. {depto}: {cobertura:.1f}%\")"
   ]
  },
  {
   "cell_type": "code",
   "execution_count": null,
   "metadata": {},
   "outputs": [],
   "source": [
    "# Guardar resultados clave\n",
    "print(\"\\n💾 EXPORTANDO RESULTADOS:\")\n",
    "print(\"=\"*80)\n",
    "\n",
    "# Crear DataFrame con municipios destacados\n",
    "municipios_destacados_export = df[\n",
    "    (df['COBERTURA_NETA'] > 90) & \n",
    "    (df['DESERCIÓN'] < 3)\n",
    "][['MUNICIPIO', 'DEPARTAMENTO', 'COBERTURA_NETA', 'DESERCIÓN', 'APROBACIÓN']]\n",
    "\n",
    "# Guardar a CSV\n",
    "municipios_destacados_export.to_csv('municipios_destacados_educacion.csv', index=False)\n",
    "print(f\"✅ Exportados {len(municipios_destacados_export)} municipios destacados a 'municipios_destacados_educacion.csv'\")\n",
    "\n",
    "# Guardar estadísticas por departamento\n",
    "stats_por_depto.to_csv('estadisticas_por_departamento.csv')\n",
    "print(\"✅ Estadísticas por departamento exportadas a 'estadisticas_por_departamento.csv'\")"
   ]
  },
  {
   "cell_type": "markdown",
   "metadata": {},
   "source": [
    "## 🎯 Ejercicios para la Clase\n",
    "\n",
    "### 📝 Preguntas para explorar con los estudiantes:\n",
    "\n",
    "1. **¿Cuál es el departamento con mayor desigualdad en cobertura entre sus municipios?**\n",
    "2. **¿Existe correlación entre el tamaño de la población y los indicadores educativos?**\n",
    "3. **¿Qué municipios tienen alta cobertura pero alta deserción? (casos atípicos)**\n",
    "4. **¿Cómo varía la cobertura entre los diferentes niveles educativos?**\n",
    "5. **¿Qué patrones podemos identificar en los municipios rurales vs urbanos?**"
   ]
  },
  {
   "cell_type": "markdown",
   "metadata": {},
   "source": [
    "## 📚 Recursos y Referencias\n",
    "\n",
    "### 🔗 Enlaces útiles:\n",
    "- [Documentación Pandas](https://pandas.pydata.org/docs/)\n",
    "- [Documentación NumPy](https://numpy.org/doc/)\n",
    "- [Datos Abiertos Colombia](https://www.datos.gov.co/)\n",
    "- [Ministerio de Educación Nacional](https://www.mineducacion.gov.co/)\n",
    "\n",
    "### 💡 Conceptos clave aprendidos:\n",
    "- ✅ Carga y exploración de datos reales\n",
    "- ✅ Los \"Big 3\" del EDA: head(), info(), describe()\n",
    "- ✅ NumPy arrays y operaciones vectorizadas\n",
    "- ✅ Pandas Series vs DataFrame\n",
    "- ✅ Indexación con loc e iloc\n",
    "- ✅ Filtrado y agrupaciones con groupby\n",
    "- ✅ Visualizaciones básicas para entender los datos"
   ]
  }
 ],
 "metadata": {
  "kernelspec": {
   "display_name": ".venv",
   "language": "python",
   "name": "python3"
  },
  "language_info": {
   "codemirror_mode": {
    "name": "ipython",
    "version": 3
   },
   "file_extension": ".py",
   "mimetype": "text/x-python",
   "name": "python",
   "nbconvert_exporter": "python",
   "pygments_lexer": "ipython3",
   "version": "3.11.9"
  }
 },
 "nbformat": 4,
 "nbformat_minor": 4
}
