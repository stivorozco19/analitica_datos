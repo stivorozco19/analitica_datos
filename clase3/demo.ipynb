{
 "cells": [
  {
   "cell_type": "code",
   "execution_count": 8,
   "id": "0211bcc5",
   "metadata": {},
   "outputs": [],
   "source": [
    "import pandas as pd"
   ]
  },
  {
   "cell_type": "code",
   "execution_count": 9,
   "id": "c8149c48",
   "metadata": {},
   "outputs": [],
   "source": [
    "df = pd.read_csv('emprendimientos_20250824.csv')\n"
   ]
  },
  {
   "cell_type": "code",
   "execution_count": 4,
   "id": "7a404253",
   "metadata": {},
   "outputs": [
    {
     "name": "stdout",
     "output_type": "stream",
     "text": [
      "<class 'pandas.core.frame.DataFrame'>\n",
      "RangeIndex: 73 entries, 0 to 72\n",
      "Data columns (total 5 columns):\n",
      " #   Column                                                                                          Non-Null Count  Dtype \n",
      "---  ------                                                                                          --------------  ----- \n",
      " 0   Nombre completo del líder o representante legal:                                                73 non-null     object\n",
      " 1   Nombre del Emprendimiento\\Negocio\\Empresa (si aun no lo tiene definido, escriba \"Sin definir\")  73 non-null     object\n",
      " 2   Ubicación del Emprendimiento                                                                    73 non-null     object\n",
      " 3   Tipo                                                                                            73 non-null     object\n",
      " 4   Canales                                                                                         72 non-null     object\n",
      "dtypes: object(5)\n",
      "memory usage: 3.0+ KB\n"
     ]
    },
    {
     "data": {
      "text/plain": [
       "(73, 5)"
      ]
     },
     "execution_count": 4,
     "metadata": {},
     "output_type": "execute_result"
    }
   ],
   "source": [
    "df.head()\n",
    "\n",
    "df.info()\n",
    "\n",
    "df.describe()\n",
    "\n",
    "df.columns\n",
    "\n",
    "df.shape"
   ]
  },
  {
   "cell_type": "code",
   "execution_count": 10,
   "id": "e422445b",
   "metadata": {},
   "outputs": [
    {
     "data": {
      "text/html": [
       "<div>\n",
       "<style scoped>\n",
       "    .dataframe tbody tr th:only-of-type {\n",
       "        vertical-align: middle;\n",
       "    }\n",
       "\n",
       "    .dataframe tbody tr th {\n",
       "        vertical-align: top;\n",
       "    }\n",
       "\n",
       "    .dataframe thead th {\n",
       "        text-align: right;\n",
       "    }\n",
       "</style>\n",
       "<table border=\"1\" class=\"dataframe\">\n",
       "  <thead>\n",
       "    <tr style=\"text-align: right;\">\n",
       "      <th></th>\n",
       "      <th>Nombre completo del líder o representante legal:</th>\n",
       "      <th>Nombre del Emprendimiento\\Negocio\\Empresa (si aun no lo tiene definido, escriba \"Sin definir\")</th>\n",
       "      <th>Ubicación del Emprendimiento</th>\n",
       "      <th>Tipo</th>\n",
       "      <th>Canales</th>\n",
       "    </tr>\n",
       "  </thead>\n",
       "  <tbody>\n",
       "    <tr>\n",
       "      <th>0</th>\n",
       "      <td>(Municipio)\"</td>\n",
       "      <td>Seleccione el sector industrial al cual perten...</td>\n",
       "      <td>Su negocio/empresa presta servicio de:</td>\n",
       "      <td>Si ya tiene establecido el diseño del bien(es)...</td>\n",
       "      <td>¿Qué canales o formas de venta y distribución ...</td>\n",
       "    </tr>\n",
       "    <tr>\n",
       "      <th>1</th>\n",
       "      <td>Andrés Felipe Ramos</td>\n",
       "      <td>Amarelo</td>\n",
       "      <td>Tunja</td>\n",
       "      <td>Alojamiento y servicios de comida</td>\n",
       "      <td>Restaurante</td>\n",
       "    </tr>\n",
       "    <tr>\n",
       "      <th>2</th>\n",
       "      <td>Judy Rocío Rubio García</td>\n",
       "      <td>El Rinconcito</td>\n",
       "      <td>Tunja</td>\n",
       "      <td>Alojamiento y servicios de comida</td>\n",
       "      <td>Restaurante Desayuno y almuerzo</td>\n",
       "    </tr>\n",
       "    <tr>\n",
       "      <th>3</th>\n",
       "      <td>Alejandra Borge</td>\n",
       "      <td>Calipso</td>\n",
       "      <td>Tunja</td>\n",
       "      <td>Alojamiento y servicios de comida</td>\n",
       "      <td>Representacion del producto en el sector</td>\n",
       "    </tr>\n",
       "    <tr>\n",
       "      <th>4</th>\n",
       "      <td>Magda Yamile Murillo Lopez</td>\n",
       "      <td>Empanadita Mecánica</td>\n",
       "      <td>Tunja</td>\n",
       "      <td>Alojamiento y servicios de comida</td>\n",
       "      <td>Venta de empanada</td>\n",
       "    </tr>\n",
       "  </tbody>\n",
       "</table>\n",
       "</div>"
      ],
      "text/plain": [
       "  Nombre completo del líder o representante legal:  \\\n",
       "0                                     (Municipio)\"   \n",
       "1                              Andrés Felipe Ramos   \n",
       "2                          Judy Rocío Rubio García   \n",
       "3                                  Alejandra Borge   \n",
       "4                       Magda Yamile Murillo Lopez   \n",
       "\n",
       "  Nombre del Emprendimiento\\Negocio\\Empresa (si aun no lo tiene definido, escriba \"Sin definir\")  \\\n",
       "0  Seleccione el sector industrial al cual perten...                                               \n",
       "1                                            Amarelo                                               \n",
       "2                                      El Rinconcito                                               \n",
       "3                                            Calipso                                               \n",
       "4                                Empanadita Mecánica                                               \n",
       "\n",
       "             Ubicación del Emprendimiento  \\\n",
       "0  Su negocio/empresa presta servicio de:   \n",
       "1                                   Tunja   \n",
       "2                                   Tunja   \n",
       "3                                   Tunja   \n",
       "4                                   Tunja   \n",
       "\n",
       "                                                Tipo  \\\n",
       "0  Si ya tiene establecido el diseño del bien(es)...   \n",
       "1                  Alojamiento y servicios de comida   \n",
       "2                  Alojamiento y servicios de comida   \n",
       "3                  Alojamiento y servicios de comida   \n",
       "4                  Alojamiento y servicios de comida   \n",
       "\n",
       "                                             Canales  \n",
       "0  ¿Qué canales o formas de venta y distribución ...  \n",
       "1                                        Restaurante  \n",
       "2                    Restaurante Desayuno y almuerzo  \n",
       "3           Representacion del producto en el sector  \n",
       "4                                  Venta de empanada  "
      ]
     },
     "execution_count": 10,
     "metadata": {},
     "output_type": "execute_result"
    }
   ],
   "source": [
    "df.head()"
   ]
  },
  {
   "cell_type": "code",
   "execution_count": 11,
   "id": "69e63f9c",
   "metadata": {},
   "outputs": [],
   "source": [
    "df.drop([0],axis=0,inplace=True)"
   ]
  },
  {
   "cell_type": "code",
   "execution_count": 12,
   "id": "1135058b",
   "metadata": {},
   "outputs": [
    {
     "data": {
      "text/html": [
       "<div>\n",
       "<style scoped>\n",
       "    .dataframe tbody tr th:only-of-type {\n",
       "        vertical-align: middle;\n",
       "    }\n",
       "\n",
       "    .dataframe tbody tr th {\n",
       "        vertical-align: top;\n",
       "    }\n",
       "\n",
       "    .dataframe thead th {\n",
       "        text-align: right;\n",
       "    }\n",
       "</style>\n",
       "<table border=\"1\" class=\"dataframe\">\n",
       "  <thead>\n",
       "    <tr style=\"text-align: right;\">\n",
       "      <th></th>\n",
       "      <th>Nombre completo del líder o representante legal:</th>\n",
       "      <th>Nombre del Emprendimiento\\Negocio\\Empresa (si aun no lo tiene definido, escriba \"Sin definir\")</th>\n",
       "      <th>Ubicación del Emprendimiento</th>\n",
       "      <th>Tipo</th>\n",
       "      <th>Canales</th>\n",
       "    </tr>\n",
       "  </thead>\n",
       "  <tbody>\n",
       "    <tr>\n",
       "      <th>1</th>\n",
       "      <td>Andrés Felipe Ramos</td>\n",
       "      <td>Amarelo</td>\n",
       "      <td>Tunja</td>\n",
       "      <td>Alojamiento y servicios de comida</td>\n",
       "      <td>Restaurante</td>\n",
       "    </tr>\n",
       "    <tr>\n",
       "      <th>2</th>\n",
       "      <td>Judy Rocío Rubio García</td>\n",
       "      <td>El Rinconcito</td>\n",
       "      <td>Tunja</td>\n",
       "      <td>Alojamiento y servicios de comida</td>\n",
       "      <td>Restaurante Desayuno y almuerzo</td>\n",
       "    </tr>\n",
       "    <tr>\n",
       "      <th>3</th>\n",
       "      <td>Alejandra Borge</td>\n",
       "      <td>Calipso</td>\n",
       "      <td>Tunja</td>\n",
       "      <td>Alojamiento y servicios de comida</td>\n",
       "      <td>Representacion del producto en el sector</td>\n",
       "    </tr>\n",
       "    <tr>\n",
       "      <th>4</th>\n",
       "      <td>Magda Yamile Murillo Lopez</td>\n",
       "      <td>Empanadita Mecánica</td>\n",
       "      <td>Tunja</td>\n",
       "      <td>Alojamiento y servicios de comida</td>\n",
       "      <td>Venta de empanada</td>\n",
       "    </tr>\n",
       "    <tr>\n",
       "      <th>5</th>\n",
       "      <td>Maria Teresa de Jesús Fonseca</td>\n",
       "      <td>Caldo parado</td>\n",
       "      <td>Tunja</td>\n",
       "      <td>Alojamiento y servicios de comida</td>\n",
       "      <td>Desayuno almuerzo comida</td>\n",
       "    </tr>\n",
       "  </tbody>\n",
       "</table>\n",
       "</div>"
      ],
      "text/plain": [
       "  Nombre completo del líder o representante legal:  \\\n",
       "1                              Andrés Felipe Ramos   \n",
       "2                          Judy Rocío Rubio García   \n",
       "3                                  Alejandra Borge   \n",
       "4                       Magda Yamile Murillo Lopez   \n",
       "5                    Maria Teresa de Jesús Fonseca   \n",
       "\n",
       "  Nombre del Emprendimiento\\Negocio\\Empresa (si aun no lo tiene definido, escriba \"Sin definir\")  \\\n",
       "1                                            Amarelo                                               \n",
       "2                                      El Rinconcito                                               \n",
       "3                                            Calipso                                               \n",
       "4                                Empanadita Mecánica                                               \n",
       "5                                       Caldo parado                                               \n",
       "\n",
       "  Ubicación del Emprendimiento                               Tipo  \\\n",
       "1                        Tunja  Alojamiento y servicios de comida   \n",
       "2                        Tunja  Alojamiento y servicios de comida   \n",
       "3                        Tunja  Alojamiento y servicios de comida   \n",
       "4                        Tunja  Alojamiento y servicios de comida   \n",
       "5                        Tunja  Alojamiento y servicios de comida   \n",
       "\n",
       "                                    Canales  \n",
       "1                               Restaurante  \n",
       "2           Restaurante Desayuno y almuerzo  \n",
       "3  Representacion del producto en el sector  \n",
       "4                         Venta de empanada  \n",
       "5                  Desayuno almuerzo comida  "
      ]
     },
     "execution_count": 12,
     "metadata": {},
     "output_type": "execute_result"
    }
   ],
   "source": [
    "df.head()"
   ]
  }
 ],
 "metadata": {
  "kernelspec": {
   "display_name": ".venv",
   "language": "python",
   "name": "python3"
  },
  "language_info": {
   "codemirror_mode": {
    "name": "ipython",
    "version": 3
   },
   "file_extension": ".py",
   "mimetype": "text/x-python",
   "name": "python",
   "nbconvert_exporter": "python",
   "pygments_lexer": "ipython3",
   "version": "3.11.9"
  }
 },
 "nbformat": 4,
 "nbformat_minor": 5
}
